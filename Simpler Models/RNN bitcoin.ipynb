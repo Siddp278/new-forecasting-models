{
 "cells": [
  {
   "cell_type": "code",
   "execution_count": 1,
   "metadata": {},
   "outputs": [],
   "source": [
    "import pandas as pd\n",
    "import numpy as np\n",
    "from sklearn.model_selection import train_test_split\n",
    "from sklearn.metrics import mean_squared_error, mean_absolute_error\n",
    "import matplotlib.pyplot as plt\n",
    "\n",
    "import torch\n",
    "import torch.nn as nn\n",
    "from torch.utils.data import Dataset, DataLoader "
   ]
  },
  {
   "cell_type": "code",
   "execution_count": 2,
   "metadata": {},
   "outputs": [],
   "source": [
    "# Setting hyperparameters\n",
    "batch_size = 32\n",
    "epochs = 100\n",
    "learning_rate = 0.001\n",
    "l1 = False\n",
    "l2 = False\n",
    "lr_decay = False"
   ]
  },
  {
   "cell_type": "code",
   "execution_count": 3,
   "metadata": {},
   "outputs": [
    {
     "name": "stdout",
     "output_type": "stream",
     "text": [
      "(4857377, 8)\n"
     ]
    }
   ],
   "source": [
    "df1 = pd.read_csv(\"bitcoin_data/bitstampUSD_1-min_data_2012-01-01_to_2021-03-31.csv\")\n",
    "\n",
    "print(df1.shape)"
   ]
  },
  {
   "cell_type": "code",
   "execution_count": 4,
   "metadata": {},
   "outputs": [
    {
     "data": {
      "text/html": [
       "<div>\n",
       "<style scoped>\n",
       "    .dataframe tbody tr th:only-of-type {\n",
       "        vertical-align: middle;\n",
       "    }\n",
       "\n",
       "    .dataframe tbody tr th {\n",
       "        vertical-align: top;\n",
       "    }\n",
       "\n",
       "    .dataframe thead th {\n",
       "        text-align: right;\n",
       "    }\n",
       "</style>\n",
       "<table border=\"1\" class=\"dataframe\">\n",
       "  <thead>\n",
       "    <tr style=\"text-align: right;\">\n",
       "      <th></th>\n",
       "      <th>Timestamp</th>\n",
       "      <th>Open</th>\n",
       "      <th>High</th>\n",
       "      <th>Low</th>\n",
       "      <th>Close</th>\n",
       "      <th>Volume_(BTC)</th>\n",
       "      <th>Volume_(Currency)</th>\n",
       "      <th>Weighted_Price</th>\n",
       "    </tr>\n",
       "  </thead>\n",
       "  <tbody>\n",
       "    <tr>\n",
       "      <th>0</th>\n",
       "      <td>1325317920</td>\n",
       "      <td>4.39</td>\n",
       "      <td>4.39</td>\n",
       "      <td>4.39</td>\n",
       "      <td>4.39</td>\n",
       "      <td>0.455581</td>\n",
       "      <td>2.0</td>\n",
       "      <td>4.39</td>\n",
       "    </tr>\n",
       "    <tr>\n",
       "      <th>1</th>\n",
       "      <td>1325317980</td>\n",
       "      <td>NaN</td>\n",
       "      <td>NaN</td>\n",
       "      <td>NaN</td>\n",
       "      <td>NaN</td>\n",
       "      <td>NaN</td>\n",
       "      <td>NaN</td>\n",
       "      <td>NaN</td>\n",
       "    </tr>\n",
       "    <tr>\n",
       "      <th>2</th>\n",
       "      <td>1325318040</td>\n",
       "      <td>NaN</td>\n",
       "      <td>NaN</td>\n",
       "      <td>NaN</td>\n",
       "      <td>NaN</td>\n",
       "      <td>NaN</td>\n",
       "      <td>NaN</td>\n",
       "      <td>NaN</td>\n",
       "    </tr>\n",
       "    <tr>\n",
       "      <th>3</th>\n",
       "      <td>1325318100</td>\n",
       "      <td>NaN</td>\n",
       "      <td>NaN</td>\n",
       "      <td>NaN</td>\n",
       "      <td>NaN</td>\n",
       "      <td>NaN</td>\n",
       "      <td>NaN</td>\n",
       "      <td>NaN</td>\n",
       "    </tr>\n",
       "    <tr>\n",
       "      <th>4</th>\n",
       "      <td>1325318160</td>\n",
       "      <td>NaN</td>\n",
       "      <td>NaN</td>\n",
       "      <td>NaN</td>\n",
       "      <td>NaN</td>\n",
       "      <td>NaN</td>\n",
       "      <td>NaN</td>\n",
       "      <td>NaN</td>\n",
       "    </tr>\n",
       "  </tbody>\n",
       "</table>\n",
       "</div>"
      ],
      "text/plain": [
       "    Timestamp  Open  High   Low  Close  Volume_(BTC)  Volume_(Currency)  \\\n",
       "0  1325317920  4.39  4.39  4.39   4.39      0.455581                2.0   \n",
       "1  1325317980   NaN   NaN   NaN    NaN           NaN                NaN   \n",
       "2  1325318040   NaN   NaN   NaN    NaN           NaN                NaN   \n",
       "3  1325318100   NaN   NaN   NaN    NaN           NaN                NaN   \n",
       "4  1325318160   NaN   NaN   NaN    NaN           NaN                NaN   \n",
       "\n",
       "   Weighted_Price  \n",
       "0            4.39  \n",
       "1             NaN  \n",
       "2             NaN  \n",
       "3             NaN  \n",
       "4             NaN  "
      ]
     },
     "execution_count": 4,
     "metadata": {},
     "output_type": "execute_result"
    }
   ],
   "source": [
    "df1.head()"
   ]
  },
  {
   "cell_type": "code",
   "execution_count": 5,
   "metadata": {},
   "outputs": [
    {
     "data": {
      "text/plain": [
       "Timestamp                  0\n",
       "Open                 1243608\n",
       "High                 1243608\n",
       "Low                  1243608\n",
       "Close                1243608\n",
       "Volume_(BTC)         1243608\n",
       "Volume_(Currency)    1243608\n",
       "Weighted_Price       1243608\n",
       "dtype: int64"
      ]
     },
     "execution_count": 5,
     "metadata": {},
     "output_type": "execute_result"
    }
   ],
   "source": [
    "df1.isnull().sum()"
   ]
  },
  {
   "cell_type": "code",
   "execution_count": 6,
   "metadata": {},
   "outputs": [
    {
     "name": "stdout",
     "output_type": "stream",
     "text": [
      "(3613769, 8)\n"
     ]
    },
    {
     "data": {
      "text/plain": [
       "Timestamp            0\n",
       "Open                 0\n",
       "High                 0\n",
       "Low                  0\n",
       "Close                0\n",
       "Volume_(BTC)         0\n",
       "Volume_(Currency)    0\n",
       "Weighted_Price       0\n",
       "dtype: int64"
      ]
     },
     "execution_count": 6,
     "metadata": {},
     "output_type": "execute_result"
    }
   ],
   "source": [
    "df = df1.dropna(how=\"any\")\n",
    "\n",
    "print(df.shape)\n",
    "df.isnull().sum()"
   ]
  },
  {
   "cell_type": "code",
   "execution_count": 7,
   "metadata": {},
   "outputs": [
    {
     "data": {
      "text/html": [
       "<div>\n",
       "<style scoped>\n",
       "    .dataframe tbody tr th:only-of-type {\n",
       "        vertical-align: middle;\n",
       "    }\n",
       "\n",
       "    .dataframe tbody tr th {\n",
       "        vertical-align: top;\n",
       "    }\n",
       "\n",
       "    .dataframe thead th {\n",
       "        text-align: right;\n",
       "    }\n",
       "</style>\n",
       "<table border=\"1\" class=\"dataframe\">\n",
       "  <thead>\n",
       "    <tr style=\"text-align: right;\">\n",
       "      <th></th>\n",
       "      <th>Timestamp</th>\n",
       "      <th>Open</th>\n",
       "      <th>High</th>\n",
       "      <th>Low</th>\n",
       "      <th>Close</th>\n",
       "      <th>Volume_(BTC)</th>\n",
       "      <th>Volume_(Currency)</th>\n",
       "      <th>Weighted_Price</th>\n",
       "    </tr>\n",
       "  </thead>\n",
       "  <tbody>\n",
       "    <tr>\n",
       "      <th>0</th>\n",
       "      <td>1325317920</td>\n",
       "      <td>4.39</td>\n",
       "      <td>4.39</td>\n",
       "      <td>4.39</td>\n",
       "      <td>4.39</td>\n",
       "      <td>0.455581</td>\n",
       "      <td>2.000000</td>\n",
       "      <td>4.390000</td>\n",
       "    </tr>\n",
       "    <tr>\n",
       "      <th>478</th>\n",
       "      <td>1325346600</td>\n",
       "      <td>4.39</td>\n",
       "      <td>4.39</td>\n",
       "      <td>4.39</td>\n",
       "      <td>4.39</td>\n",
       "      <td>48.000000</td>\n",
       "      <td>210.720000</td>\n",
       "      <td>4.390000</td>\n",
       "    </tr>\n",
       "    <tr>\n",
       "      <th>547</th>\n",
       "      <td>1325350740</td>\n",
       "      <td>4.50</td>\n",
       "      <td>4.57</td>\n",
       "      <td>4.50</td>\n",
       "      <td>4.57</td>\n",
       "      <td>37.862297</td>\n",
       "      <td>171.380338</td>\n",
       "      <td>4.526411</td>\n",
       "    </tr>\n",
       "    <tr>\n",
       "      <th>548</th>\n",
       "      <td>1325350800</td>\n",
       "      <td>4.58</td>\n",
       "      <td>4.58</td>\n",
       "      <td>4.58</td>\n",
       "      <td>4.58</td>\n",
       "      <td>9.000000</td>\n",
       "      <td>41.220000</td>\n",
       "      <td>4.580000</td>\n",
       "    </tr>\n",
       "    <tr>\n",
       "      <th>1224</th>\n",
       "      <td>1325391360</td>\n",
       "      <td>4.58</td>\n",
       "      <td>4.58</td>\n",
       "      <td>4.58</td>\n",
       "      <td>4.58</td>\n",
       "      <td>1.502000</td>\n",
       "      <td>6.879160</td>\n",
       "      <td>4.580000</td>\n",
       "    </tr>\n",
       "  </tbody>\n",
       "</table>\n",
       "</div>"
      ],
      "text/plain": [
       "       Timestamp  Open  High   Low  Close  Volume_(BTC)  Volume_(Currency)  \\\n",
       "0     1325317920  4.39  4.39  4.39   4.39      0.455581           2.000000   \n",
       "478   1325346600  4.39  4.39  4.39   4.39     48.000000         210.720000   \n",
       "547   1325350740  4.50  4.57  4.50   4.57     37.862297         171.380338   \n",
       "548   1325350800  4.58  4.58  4.58   4.58      9.000000          41.220000   \n",
       "1224  1325391360  4.58  4.58  4.58   4.58      1.502000           6.879160   \n",
       "\n",
       "      Weighted_Price  \n",
       "0           4.390000  \n",
       "478         4.390000  \n",
       "547         4.526411  \n",
       "548         4.580000  \n",
       "1224        4.580000  "
      ]
     },
     "execution_count": 7,
     "metadata": {},
     "output_type": "execute_result"
    }
   ],
   "source": [
    "df.head()"
   ]
  },
  {
   "cell_type": "code",
   "execution_count": 8,
   "metadata": {},
   "outputs": [],
   "source": [
    "# No EDA and data leakage consideration - just model building."
   ]
  },
  {
   "cell_type": "code",
   "execution_count": 9,
   "metadata": {},
   "outputs": [],
   "source": [
    "feature_list = ['Open', 'High', 'Low', 'Close', 'Volume_(BTC)', 'Volume_(Currency)']\n",
    "\n",
    "target = 'Weighted_Price'\n",
    "\n",
    "X = df[feature_list]\n",
    "y = df[target]"
   ]
  },
  {
   "cell_type": "code",
   "execution_count": 10,
   "metadata": {},
   "outputs": [],
   "source": [
    "# Generating dataset\n",
    "\n",
    "class bitcoin(Dataset):\n",
    "    def __init__(self, X, y, bias):\n",
    "        self.X = X.to_numpy()\n",
    "        self.y = y.to_numpy()\n",
    "        self.bias = bias\n",
    "        self.meta= self.preprocess(self.X, self.y)\n",
    "\n",
    "    def preprocess(self, X, y):\n",
    "        X_min, y_min = X.min(axis=0), y.min(axis=0)  \n",
    "        X_max, y_max = X.max(axis=0), y.max(axis=0)  \n",
    "\n",
    "        meta_data = [X_max, y_max, X_min, y_min]\n",
    "        return meta_data\n",
    "\n",
    "        \n",
    "    def __len__(self):\n",
    "        return self.X.shape[0]\n",
    "    \n",
    "    def __getitem__(self, index):\n",
    "        p = (self.X[index, :] - self.meta[2])/(self.meta[0] - self.meta[2] + self.bias)\n",
    "        q = (self.y[index] - self.meta[3])/(self.meta[1] - self.meta[3] + self.bias)\n",
    "        return p,q"
   ]
  },
  {
   "cell_type": "code",
   "execution_count": 11,
   "metadata": {},
   "outputs": [
    {
     "data": {
      "text/plain": [
       "259.34"
      ]
     },
     "execution_count": 11,
     "metadata": {},
     "output_type": "execute_result"
    }
   ],
   "source": [
    "train = bitcoin(X.iloc[:100000, :], y.iloc[:100000], 1e-4)\n",
    "train.meta[0][2]"
   ]
  },
  {
   "cell_type": "code",
   "execution_count": 12,
   "metadata": {},
   "outputs": [
    {
     "data": {
      "text/plain": [
       "130.88"
      ]
     },
     "execution_count": 12,
     "metadata": {},
     "output_type": "execute_result"
    }
   ],
   "source": [
    "val = bitcoin(X.iloc[100000:140000, :], y.iloc[100000:140000], 1e-4)\n",
    "val.meta[0][2]"
   ]
  },
  {
   "cell_type": "code",
   "execution_count": 13,
   "metadata": {},
   "outputs": [
    {
     "data": {
      "text/plain": [
       "107.49"
      ]
     },
     "execution_count": 13,
     "metadata": {},
     "output_type": "execute_result"
    }
   ],
   "source": [
    "test = bitcoin(X.iloc[140000:180000, :], y.iloc[140000:180000], 1e-4)\n",
    "test.meta[0][2]"
   ]
  },
  {
   "cell_type": "code",
   "execution_count": 14,
   "metadata": {},
   "outputs": [],
   "source": [
    "train_loader = DataLoader(train, batch_size=batch_size, shuffle=True)\n",
    "val_loader = DataLoader(val, batch_size=batch_size, shuffle=True)\n",
    "test_loader = DataLoader(test, batch_size=1, shuffle=False)"
   ]
  },
  {
   "cell_type": "code",
   "execution_count": 15,
   "metadata": {},
   "outputs": [
    {
     "name": "stdout",
     "output_type": "stream",
     "text": [
      "torch.Size([32, 6]) torch.Size([32])\n"
     ]
    }
   ],
   "source": [
    "dataset_iter = iter(train_loader)\n",
    "temp = next(dataset_iter)\n",
    "features, labels = temp\n",
    "print(features.shape, labels.shape)"
   ]
  },
  {
   "cell_type": "code",
   "execution_count": 16,
   "metadata": {},
   "outputs": [],
   "source": [
    "class RNNForecasting(nn.Module):\n",
    "    def __init__(self, input_shape, hidden_shape, output_shape, num_layers):\n",
    "        super(RNNForecasting, self).__init__()\n",
    "        self.hidden = hidden_shape\n",
    "        self.num_layers = num_layers\n",
    "        self.rnn = nn.RNN(input_shape, hidden_shape, num_layers=num_layers)\n",
    "        self.linear = nn.Linear(hidden_shape, output_shape)\n",
    "\n",
    "    def forward(self, x, future=0):\n",
    "        h = torch.zeros([self.num_layers, self.hidden], dtype=torch.double).cuda()\n",
    "        # print(f\"ff {h.dtype}\")\n",
    "        out, h = self.rnn(x, h)\n",
    "        out = self.linear(out)\n",
    "            \n",
    "        return out \n",
    "\n",
    "    def compute_l1(self, w):\n",
    "        return torch.abs(w).sum()\n",
    "    \n",
    "    def compute_l2(self, w):\n",
    "      return torch.square(w).sum()  "
   ]
  },
  {
   "cell_type": "code",
   "execution_count": 17,
   "metadata": {},
   "outputs": [],
   "source": [
    "input_shape = 6\n",
    "hidden_shape = 128\n",
    "model = RNNForecasting(input_shape, hidden_shape, 1, num_layers=3).double().cuda()"
   ]
  },
  {
   "cell_type": "code",
   "execution_count": 18,
   "metadata": {},
   "outputs": [],
   "source": [
    "criterion = nn.MSELoss()\n",
    "optimizer = torch.optim.Adam(model.parameters(), lr=learning_rate)\n",
    "\n",
    "epoch_scheduler = torch.optim.lr_scheduler.StepLR(optimizer, 5, gamma=0.9)"
   ]
  },
  {
   "cell_type": "code",
   "execution_count": 19,
   "metadata": {},
   "outputs": [
    {
     "name": "stdout",
     "output_type": "stream",
     "text": [
      "Iter:  0 train:  0.015114531714141255 val:  0.015557375140498653\n",
      "Iter:  1 train:  0.006033494588678845 val:  0.0169078099872868\n",
      "Iter:  2 train:  0.005002879105805759 val:  0.009994161041057305\n",
      "Iter:  3 train:  0.0043539860100862545 val:  0.019535062936884912\n",
      "Iter:  4 train:  0.004033850966273713 val:  0.01576120782745597\n",
      "Iter:  5 train:  0.0034155044840103537 val:  0.006396261251009295\n",
      "Iter:  6 train:  0.02507559161181846 val:  0.1808321237192349\n",
      "Iter:  7 train:  0.007234875757201991 val:  0.02103973551494101\n",
      "Iter:  8 train:  0.004371675614866154 val:  0.009622182384345484\n",
      "Iter:  9 train:  0.004756337676832402 val:  0.007057311654225826\n",
      "Iter:  10 train:  0.004630325298358105 val:  0.010133894982914563\n",
      "Iter:  11 train:  0.004308153337672736 val:  0.01693788781791134\n",
      "Iter:  12 train:  0.0036484688030772056 val:  0.0063301028838306595\n",
      "Iter:  13 train:  0.003145077065031697 val:  0.009578045609459733\n",
      "Iter:  14 train:  0.0029837351583256577 val:  0.007256496126062425\n",
      "Iter:  15 train:  0.006451266658734035 val:  0.00816310979202665\n",
      "Iter:  16 train:  0.0028815364192512605 val:  0.00620114056287528\n",
      "Iter:  17 train:  0.002953621566642578 val:  0.0056932294510510005\n",
      "Iter:  18 train:  0.0026018845270125187 val:  0.006104217562139027\n",
      "Iter:  19 train:  0.0024483859784366654 val:  0.0044335660411452035\n",
      "Iter:  20 train:  0.002261525987780236 val:  0.004664222940907312\n",
      "Iter:  21 train:  0.029273315145168184 val:  0.012314847775687181\n",
      "Iter:  22 train:  0.0035735989759860115 val:  0.010606126725853102\n",
      "Iter:  23 train:  0.003616755688883247 val:  0.009091164710645024\n",
      "Iter:  24 train:  0.003356879276300603 val:  0.00642373232744834\n",
      "Iter:  25 train:  0.002792736546387313 val:  0.010086292214124847\n",
      "Iter:  26 train:  0.02159873684401125 val:  0.01185934655499979\n",
      "Iter:  27 train:  0.00646990414868538 val:  0.012080303361566827\n",
      "Iter:  28 train:  0.00637580922208812 val:  0.01308508942631572\n",
      "Iter:  29 train:  0.005503067464440128 val:  0.008751252434984843\n",
      "Iter:  30 train:  0.004861475897111359 val:  0.00823401231706727\n",
      "Iter:  31 train:  0.004211240011536295 val:  0.01099277072301112\n",
      "Iter:  32 train:  0.010523178127991712 val:  0.007509710378762468\n",
      "Iter:  33 train:  0.004868778058582864 val:  0.006089515890939911\n",
      "Iter:  34 train:  0.004388869352770884 val:  0.006605249313417284\n",
      "Iter:  35 train:  0.006192767196825004 val:  0.007612099243003311\n",
      "Iter:  36 train:  0.0039324151175827715 val:  0.014882811612673234\n",
      "Iter:  37 train:  0.0037806536438665093 val:  0.0052915051648859245\n",
      "Iter:  38 train:  0.003802948916791392 val:  0.004608875759397136\n",
      "Iter:  39 train:  0.01507961288776959 val:  0.012971621208840866\n",
      "Iter:  40 train:  0.005085675362996872 val:  0.00669937308680869\n",
      "Iter:  41 train:  0.005516460136229465 val:  0.008492030141150783\n",
      "Iter:  42 train:  0.005205351112683788 val:  0.008906905988815566\n",
      "Iter:  43 train:  0.0046661778746471365 val:  0.009601955811118959\n",
      "Iter:  44 train:  0.004433130162142799 val:  0.02439268882439012\n",
      "Iter:  45 train:  0.004217825748636415 val:  0.007930068696224257\n",
      "Iter:  46 train:  0.004109459873725298 val:  0.027227972662309214\n",
      "Iter:  47 train:  0.0038100621466468027 val:  0.007167878269374955\n",
      "Iter:  48 train:  0.006194071424659229 val:  0.00466438407467155\n",
      "Iter:  49 train:  0.0037021632770509916 val:  0.004872945280810381\n",
      "Iter:  50 train:  0.0036581452806183187 val:  0.007257382659250228\n",
      "Iter:  51 train:  0.0035548530076338026 val:  0.010615783975565328\n",
      "Iter:  52 train:  0.0035419526046119704 val:  0.004202997223465457\n",
      "Iter:  53 train:  0.003625834917679179 val:  0.00430721778681364\n",
      "Iter:  54 train:  0.003335011431951602 val:  0.006125826974726345\n",
      "Iter:  55 train:  0.0033336790326351663 val:  0.0058950087756861605\n",
      "Iter:  56 train:  0.004619352613209863 val:  0.009853706097518473\n",
      "Iter:  57 train:  0.0032048408032988515 val:  0.004489386510929738\n",
      "Iter:  58 train:  0.007619392130690184 val:  0.01175792273189161\n",
      "Iter:  59 train:  0.0032526064875077546 val:  0.005744928465830294\n",
      "Iter:  60 train:  0.0035538301389227865 val:  0.011740737841760664\n",
      "Iter:  61 train:  0.0033378281722505096 val:  0.006806660745296379\n",
      "Iter:  62 train:  0.003269955051489823 val:  0.02145452379961834\n",
      "Iter:  63 train:  0.003422970824562952 val:  0.008607043145355878\n",
      "Iter:  64 train:  0.0032590140357019494 val:  0.004450341022319436\n",
      "Iter:  65 train:  0.006883343830381117 val:  0.008203722569846396\n",
      "Iter:  66 train:  0.00287540960790768 val:  0.004576140128635393\n",
      "Iter:  67 train:  0.0032275995345535254 val:  0.004487230396818089\n",
      "Iter:  68 train:  0.0033003113573615633 val:  0.004785829718906998\n",
      "Iter:  69 train:  0.0029753460144552775 val:  0.004901164479897259\n",
      "Iter:  70 train:  0.0032055152030744166 val:  0.003919877627661756\n",
      "Iter:  71 train:  0.0028522805456472275 val:  0.0032579744867141983\n",
      "Iter:  72 train:  0.003144231115913501 val:  0.008580815333112451\n",
      "Iter:  73 train:  0.0055696020908580285 val:  0.006053728465380358\n",
      "Iter:  74 train:  0.002854384982120519 val:  0.0042836701066176425\n",
      "Iter:  75 train:  0.0029396503319592607 val:  0.004633347345275165\n",
      "Iter:  76 train:  0.0029792073082154464 val:  0.003923852907753532\n",
      "Iter:  77 train:  0.005633361110799808 val:  0.005548140023837231\n",
      "Iter:  78 train:  0.0029059672963937535 val:  0.005813877402330643\n",
      "Iter:  79 train:  0.0030579039878698296 val:  0.004153731048651988\n",
      "Iter:  80 train:  0.0029096275250730694 val:  0.004110116220675503\n",
      "Iter:  81 train:  0.0029975554623847614 val:  0.005274003428116601\n",
      "Iter:  82 train:  0.003128315472074529 val:  0.004753332375012545\n",
      "Iter:  83 train:  0.010813044979414817 val:  0.01285203911931565\n",
      "Iter:  84 train:  0.0035629495625280915 val:  0.010769388564244206\n",
      "Iter:  85 train:  0.00419713622322823 val:  0.01410015088218213\n",
      "Iter:  86 train:  0.0031390615709414064 val:  0.00974811020682832\n",
      "Iter:  87 train:  0.0031072504708030343 val:  0.006658238352668363\n",
      "Iter:  88 train:  0.00716050776187484 val:  0.006001800923040496\n",
      "Iter:  89 train:  0.0030676674453989014 val:  0.007091313162180322\n",
      "Iter:  90 train:  0.0031564518959251333 val:  0.00484922517291361\n",
      "Iter:  91 train:  0.0031841078850080463 val:  0.007472507271449581\n",
      "Iter:  92 train:  0.0031817961209806506 val:  0.008258732403570015\n",
      "Iter:  93 train:  0.002790399661036382 val:  0.004047867753334727\n",
      "Iter:  94 train:  0.003934717028110274 val:  0.007735696788316449\n",
      "Iter:  95 train:  0.0027508996208888293 val:  0.005828129728735925\n",
      "Iter:  96 train:  0.0028615834559193093 val:  0.006673812543708868\n",
      "Iter:  97 train:  0.003374313379923138 val:  0.004528543326414404\n",
      "Iter:  98 train:  0.0028756702772163786 val:  0.005638664060779886\n",
      "Iter:  99 train:  0.0030306999245811946 val:  0.004885774496928783\n"
     ]
    }
   ],
   "source": [
    "# Training\n",
    "l1_weight = 0.01\n",
    "l2_weight = 0.01\n",
    "for i in range(epochs):\n",
    "    mse_train = 0\n",
    "    for batch_x, batch_y in train_loader:\n",
    "        batch_x = batch_x.cuda()\n",
    "        batch_y = batch_y.cuda()\n",
    "        # print(batch_x.dtype)\n",
    "        optimizer.zero_grad()\n",
    "        y_pred = model(batch_x)\n",
    "        y_pred = y_pred.squeeze(1)\n",
    "        l = criterion(y_pred, batch_y)\n",
    "\n",
    "        # Using l1 regularization\n",
    "        if l1:\n",
    "            l1_parameters = []\n",
    "            for parameter in model.parameters():\n",
    "                l1_parameters.append(parameter.view(-1))\n",
    "            L1 = l1_weight * model.compute_l1(torch.cat(l1_parameters))\n",
    "            l += L1\n",
    "\n",
    "        # Using l2 regularization\n",
    "        if l2:\n",
    "            l2_parameters = []\n",
    "            for parameter in model.parameters():\n",
    "                l2_parameters.append(parameter.view(-1))\n",
    "            L2 = l2_weight * model.compute_l2(torch.cat(l2_parameters))\n",
    "            l += L2      \n",
    "\n",
    "        l.backward()\n",
    "        mse_train += l.item()*batch_x.shape[0]\n",
    "        optimizer.step()\n",
    "    if lr_decay:    \n",
    "        epoch_scheduler.step()\n",
    "    with torch.no_grad():\n",
    "        mse_val = 0\n",
    "        preds = []\n",
    "        true = []\n",
    "        for batch_x, batch_y in val_loader:\n",
    "            batch_x = batch_x.cuda()\n",
    "            batch_y = batch_y.cuda()\n",
    "            output = model(batch_x)\n",
    "            output = output.squeeze(1)\n",
    "            preds.append(output.detach().cpu().numpy())\n",
    "            true.append(batch_y.detach().cpu().numpy())\n",
    "            mse_val += criterion(output, batch_y).item()*batch_x.shape[0]\n",
    "    preds = np.concatenate(preds)\n",
    "    true = np.concatenate(true)\n",
    "        \n",
    "    print(\"Iter: \", i, \"train: \", (mse_train/train.__len__())**0.5, \"val: \", (mse_val/val.__len__())**0.5)\n"
   ]
  },
  {
   "cell_type": "code",
   "execution_count": 20,
   "metadata": {},
   "outputs": [
    {
     "name": "stdout",
     "output_type": "stream",
     "text": [
      "0.05054609802999652 0.14781813105816904\n"
     ]
    },
    {
     "data": {
      "image/png": "[encoded data removed]",
      "text/plain": [
       "<Figure size 1300x800 with 1 Axes>"
      ]
     },
     "metadata": {},
     "output_type": "display_data"
    }
   ],
   "source": [
    "# Testing the model\n",
    "\n",
    "with torch.no_grad():\n",
    "    mse_val = 0\n",
    "    preds = []\n",
    "    true = []\n",
    "    for batch_x, batch_y in test_loader:\n",
    "        batch_x = batch_x.cuda()\n",
    "        batch_y = batch_y.cuda()\n",
    "        output = model(batch_x)\n",
    "        output = output.squeeze(1)\n",
    "        preds.append(output.detach().cpu().numpy())\n",
    "        true.append(batch_y.detach().cpu().numpy())\n",
    "        mse_val += criterion(output, batch_y).item()*batch_x.shape[0]\n",
    "    preds = np.concatenate(preds)\n",
    "    true = np.concatenate(true)\n",
    "\n",
    "    # resizing to true value scales\n",
    "    preds = preds*(test.meta[1] - test.meta[3]) + test.meta[3]\n",
    "    true = true*(test.meta[1] - test.meta[3]) + test.meta[3]\n",
    "\n",
    "    mse = mean_squared_error(true, preds)\n",
    "    mae = mean_absolute_error(true, preds)\n",
    "\n",
    "    print(mse, mae)\n",
    "\n",
    "    plt.figure(figsize=(13, 8))\n",
    "    plt.plot(preds, 'b', label='line 1')\n",
    "    plt.plot(true, 'g',  label='line 2')\n",
    "    plt.show()"
   ]
  },
  {
   "cell_type": "code",
   "execution_count": 21,
   "metadata": {},
   "outputs": [],
   "source": [
    "# https://www.kaggle.com/code/myonin/bitcoin-price-prediction-by-arima/notebook\n",
    "# https://www.kaggle.com/code/zikazika/using-rnn-and-arima-to-predict-bitcoin-price/notebook"
   ]
  },
  {
   "cell_type": "code",
   "execution_count": null,
   "metadata": {},
   "outputs": [],
   "source": []
  }
 ],
 "metadata": {
  "kernelspec": {
   "display_name": "dryice",
   "language": "python",
   "name": "python3"
  },
  "language_info": {
   "codemirror_mode": {
    "name": "ipython",
    "version": 3
   },
   "file_extension": ".py",
   "mimetype": "text/x-python",
   "name": "python",
   "nbconvert_exporter": "python",
   "pygments_lexer": "ipython3",
   "version": "3.9.12"
  },
  "orig_nbformat": 4
 },
 "nbformat": 4,
 "nbformat_minor": 2
}
