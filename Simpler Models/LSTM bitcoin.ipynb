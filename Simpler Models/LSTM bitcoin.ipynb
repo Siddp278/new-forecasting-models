{
 "cells": [
  {
   "cell_type": "code",
   "execution_count": 1,
   "metadata": {},
   "outputs": [],
   "source": [
    "import pandas as pd\n",
    "import numpy as np\n",
    "from sklearn.model_selection import train_test_split\n",
    "from sklearn.metrics import mean_squared_error, mean_absolute_error\n",
    "import matplotlib.pyplot as plt\n",
    "\n",
    "import torch\n",
    "import torch.nn as nn\n",
    "from torch.utils.data import Dataset, DataLoader "
   ]
  },
  {
   "cell_type": "code",
   "execution_count": 2,
   "metadata": {},
   "outputs": [],
   "source": [
    "# Setting hyperparameters\n",
    "batch_size = 32\n",
    "epochs = 15\n",
    "learning_rate = 0.0001\n",
    "input_shape = 6\n",
    "hidden_shape = 256\n",
    "l1 = False\n",
    "l2 = False\n",
    "lr_decay = False"
   ]
  },
  {
   "cell_type": "code",
   "execution_count": 3,
   "metadata": {},
   "outputs": [
    {
     "name": "stdout",
     "output_type": "stream",
     "text": [
      "(4857377, 8)\n"
     ]
    }
   ],
   "source": [
    "df1 = pd.read_csv(\"bitcoin_data/bitstampUSD_1-min_data_2012-01-01_to_2021-03-31.csv\")\n",
    "\n",
    "print(df1.shape)"
   ]
  },
  {
   "cell_type": "code",
   "execution_count": 4,
   "metadata": {},
   "outputs": [
    {
     "data": {
      "text/html": [
       "<div>\n",
       "<style scoped>\n",
       "    .dataframe tbody tr th:only-of-type {\n",
       "        vertical-align: middle;\n",
       "    }\n",
       "\n",
       "    .dataframe tbody tr th {\n",
       "        vertical-align: top;\n",
       "    }\n",
       "\n",
       "    .dataframe thead th {\n",
       "        text-align: right;\n",
       "    }\n",
       "</style>\n",
       "<table border=\"1\" class=\"dataframe\">\n",
       "  <thead>\n",
       "    <tr style=\"text-align: right;\">\n",
       "      <th></th>\n",
       "      <th>Timestamp</th>\n",
       "      <th>Open</th>\n",
       "      <th>High</th>\n",
       "      <th>Low</th>\n",
       "      <th>Close</th>\n",
       "      <th>Volume_(BTC)</th>\n",
       "      <th>Volume_(Currency)</th>\n",
       "      <th>Weighted_Price</th>\n",
       "    </tr>\n",
       "  </thead>\n",
       "  <tbody>\n",
       "    <tr>\n",
       "      <th>0</th>\n",
       "      <td>1325317920</td>\n",
       "      <td>4.39</td>\n",
       "      <td>4.39</td>\n",
       "      <td>4.39</td>\n",
       "      <td>4.39</td>\n",
       "      <td>0.455581</td>\n",
       "      <td>2.0</td>\n",
       "      <td>4.39</td>\n",
       "    </tr>\n",
       "    <tr>\n",
       "      <th>1</th>\n",
       "      <td>1325317980</td>\n",
       "      <td>NaN</td>\n",
       "      <td>NaN</td>\n",
       "      <td>NaN</td>\n",
       "      <td>NaN</td>\n",
       "      <td>NaN</td>\n",
       "      <td>NaN</td>\n",
       "      <td>NaN</td>\n",
       "    </tr>\n",
       "    <tr>\n",
       "      <th>2</th>\n",
       "      <td>1325318040</td>\n",
       "      <td>NaN</td>\n",
       "      <td>NaN</td>\n",
       "      <td>NaN</td>\n",
       "      <td>NaN</td>\n",
       "      <td>NaN</td>\n",
       "      <td>NaN</td>\n",
       "      <td>NaN</td>\n",
       "    </tr>\n",
       "    <tr>\n",
       "      <th>3</th>\n",
       "      <td>1325318100</td>\n",
       "      <td>NaN</td>\n",
       "      <td>NaN</td>\n",
       "      <td>NaN</td>\n",
       "      <td>NaN</td>\n",
       "      <td>NaN</td>\n",
       "      <td>NaN</td>\n",
       "      <td>NaN</td>\n",
       "    </tr>\n",
       "    <tr>\n",
       "      <th>4</th>\n",
       "      <td>1325318160</td>\n",
       "      <td>NaN</td>\n",
       "      <td>NaN</td>\n",
       "      <td>NaN</td>\n",
       "      <td>NaN</td>\n",
       "      <td>NaN</td>\n",
       "      <td>NaN</td>\n",
       "      <td>NaN</td>\n",
       "    </tr>\n",
       "  </tbody>\n",
       "</table>\n",
       "</div>"
      ],
      "text/plain": [
       "    Timestamp  Open  High   Low  Close  Volume_(BTC)  Volume_(Currency)  \\\n",
       "0  1325317920  4.39  4.39  4.39   4.39      0.455581                2.0   \n",
       "1  1325317980   NaN   NaN   NaN    NaN           NaN                NaN   \n",
       "2  1325318040   NaN   NaN   NaN    NaN           NaN                NaN   \n",
       "3  1325318100   NaN   NaN   NaN    NaN           NaN                NaN   \n",
       "4  1325318160   NaN   NaN   NaN    NaN           NaN                NaN   \n",
       "\n",
       "   Weighted_Price  \n",
       "0            4.39  \n",
       "1             NaN  \n",
       "2             NaN  \n",
       "3             NaN  \n",
       "4             NaN  "
      ]
     },
     "execution_count": 4,
     "metadata": {},
     "output_type": "execute_result"
    }
   ],
   "source": [
    "df1.head()"
   ]
  },
  {
   "cell_type": "code",
   "execution_count": 5,
   "metadata": {},
   "outputs": [
    {
     "data": {
      "text/plain": [
       "Timestamp                  0\n",
       "Open                 1243608\n",
       "High                 1243608\n",
       "Low                  1243608\n",
       "Close                1243608\n",
       "Volume_(BTC)         1243608\n",
       "Volume_(Currency)    1243608\n",
       "Weighted_Price       1243608\n",
       "dtype: int64"
      ]
     },
     "execution_count": 5,
     "metadata": {},
     "output_type": "execute_result"
    }
   ],
   "source": [
    "df1.isnull().sum()"
   ]
  },
  {
   "cell_type": "code",
   "execution_count": 6,
   "metadata": {},
   "outputs": [
    {
     "name": "stdout",
     "output_type": "stream",
     "text": [
      "(4857377, 8)\n"
     ]
    },
    {
     "data": {
      "text/plain": [
       "Timestamp            0\n",
       "Open                 0\n",
       "High                 0\n",
       "Low                  0\n",
       "Close                0\n",
       "Volume_(BTC)         0\n",
       "Volume_(Currency)    0\n",
       "Weighted_Price       0\n",
       "dtype: int64"
      ]
     },
     "execution_count": 6,
     "metadata": {},
     "output_type": "execute_result"
    }
   ],
   "source": [
    "df1['Volume_(BTC)'].fillna(value=0, inplace=True)\n",
    "df1['Volume_(Currency)'].fillna(value=0, inplace=True)\n",
    "df1['Weighted_Price'].fillna(value=0, inplace=True)\n",
    "\n",
    "# next we need to fix the OHLC (open high low close) data which is a continuous timeseries so\n",
    "# lets fill forwards those values...\n",
    "df1['Open'].fillna(method='ffill', inplace=True)\n",
    "df1['High'].fillna(method='ffill', inplace=True)\n",
    "df1['Low'].fillna(method='ffill', inplace=True)\n",
    "df1['Close'].fillna(method='ffill', inplace=True)\n",
    "\n",
    "print(df1.shape)\n",
    "df1.isnull().sum()"
   ]
  },
  {
   "cell_type": "code",
   "execution_count": 7,
   "metadata": {},
   "outputs": [],
   "source": [
    "# No EDA and data leakage consideration - just model building."
   ]
  },
  {
   "cell_type": "code",
   "execution_count": 8,
   "metadata": {},
   "outputs": [],
   "source": [
    "feature_list = ['Open', 'High', 'Low', 'Close', 'Volume_(BTC)', 'Volume_(Currency)']\n",
    "\n",
    "target = 'Weighted_Price'\n",
    "\n",
    "X = df1[feature_list]\n",
    "y = df1[target]"
   ]
  },
  {
   "cell_type": "code",
   "execution_count": 9,
   "metadata": {},
   "outputs": [],
   "source": [
    "# Generating dataset\n",
    "\n",
    "class bitcoin(Dataset):\n",
    "    def __init__(self, X, y, bias):\n",
    "        self.X = X.to_numpy()\n",
    "        self.y = y.to_numpy()\n",
    "        self.bias = bias\n",
    "        self.meta= self.preprocess(self.X, self.y)\n",
    "\n",
    "    def preprocess(self, X, y):\n",
    "        X_min, y_min = X.min(axis=0), y.min(axis=0)  \n",
    "        X_max, y_max = X.max(axis=0), y.max(axis=0)  \n",
    "\n",
    "        meta_data = [X_max, y_max, X_min, y_min]\n",
    "        return meta_data\n",
    "\n",
    "        \n",
    "    def __len__(self):\n",
    "        return self.X.shape[0]\n",
    "    \n",
    "    def __getitem__(self, index):\n",
    "        p = (self.X[index, :] - self.meta[2])/(self.meta[0] - self.meta[2] + self.bias)\n",
    "        q = (self.y[index] - self.meta[3])/(self.meta[1] - self.meta[3] + self.bias)\n",
    "        return p,q"
   ]
  },
  {
   "cell_type": "code",
   "execution_count": 10,
   "metadata": {},
   "outputs": [
    {
     "data": {
      "text/plain": [
       "19649.96"
      ]
     },
     "execution_count": 10,
     "metadata": {},
     "output_type": "execute_result"
    }
   ],
   "source": [
    "train = bitcoin(X.iloc[2400000:4500000], y.iloc[2400000:4500000], 1e-4)\n",
    "train.meta[0][2]"
   ]
  },
  {
   "cell_type": "code",
   "execution_count": 11,
   "metadata": {},
   "outputs": [
    {
     "data": {
      "text/plain": [
       "41905.03"
      ]
     },
     "execution_count": 11,
     "metadata": {},
     "output_type": "execute_result"
    }
   ],
   "source": [
    "val = bitcoin(X.iloc[4500000:4750000], y.iloc[4500000:4750000], 1e-4)\n",
    "val.meta[0][2]"
   ]
  },
  {
   "cell_type": "code",
   "execution_count": 12,
   "metadata": {},
   "outputs": [
    {
     "data": {
      "text/plain": [
       "52546.26"
      ]
     },
     "execution_count": 12,
     "metadata": {},
     "output_type": "execute_result"
    }
   ],
   "source": [
    "test = bitcoin(X.iloc[4750000:4800000], y.iloc[4750000:4800000], 1e-4)\n",
    "test.meta[0][2]"
   ]
  },
  {
   "cell_type": "code",
   "execution_count": 13,
   "metadata": {},
   "outputs": [],
   "source": [
    "train_loader = DataLoader(train, batch_size=batch_size, shuffle=True)\n",
    "val_loader = DataLoader(val, batch_size=batch_size, shuffle=True)\n",
    "test_loader = DataLoader(test, batch_size=1, shuffle=False)"
   ]
  },
  {
   "cell_type": "code",
   "execution_count": 14,
   "metadata": {},
   "outputs": [
    {
     "name": "stdout",
     "output_type": "stream",
     "text": [
      "torch.Size([32, 6]) torch.Size([32])\n"
     ]
    }
   ],
   "source": [
    "dataset_iter = iter(train_loader)\n",
    "temp = next(dataset_iter)\n",
    "features, labels = temp\n",
    "print(features.shape, labels.shape)"
   ]
  },
  {
   "cell_type": "code",
   "execution_count": 15,
   "metadata": {},
   "outputs": [],
   "source": [
    "class LSTMForecasting(nn.Module):\n",
    "    def __init__(self, input_shape, hidden_shape, output_shape, num_layers):\n",
    "        super(LSTMForecasting, self).__init__()\n",
    "        self.hidden = hidden_shape\n",
    "        self.num_layers = num_layers\n",
    "        self.rnn = nn.LSTM(input_shape, hidden_shape, num_layers=num_layers)\n",
    "        self.linear = nn.Linear(hidden_shape, output_shape)\n",
    "\n",
    "    def forward(self, x):\n",
    "        h = torch.zeros([self.num_layers, self.hidden], dtype=torch.double).cuda()\n",
    "        c = torch.zeros([self.num_layers, self.hidden], dtype=torch.double).cuda()\n",
    "        # print(f\"ff {h.dtype}\")\n",
    "        out, (h,c) = self.rnn(x, (h, c))\n",
    "        out = self.linear(out)\n",
    "            \n",
    "        return out  \n",
    "\n",
    "    def compute_l1(self, w):\n",
    "        return torch.abs(w).sum()\n",
    "    \n",
    "    def compute_l2(self, w):\n",
    "      return torch.square(w).sum() "
   ]
  },
  {
   "cell_type": "code",
   "execution_count": 16,
   "metadata": {},
   "outputs": [],
   "source": [
    "input_shape = 6\n",
    "model = LSTMForecasting(input_shape, hidden_shape, 1, num_layers=3).double().cuda()"
   ]
  },
  {
   "cell_type": "code",
   "execution_count": 17,
   "metadata": {},
   "outputs": [],
   "source": [
    "criterions = nn.MSELoss()\n",
    "optimizers = torch.optim.Adam(model.parameters(), lr=learning_rate)\n",
    "\n",
    "epoch_schedulers = torch.optim.lr_scheduler.StepLR(optimizers, 5, gamma=0.9)"
   ]
  },
  {
   "cell_type": "code",
   "execution_count": 18,
   "metadata": {},
   "outputs": [
    {
     "name": "stdout",
     "output_type": "stream",
     "text": [
      "Iter:  0 train:  0.05115115210841248 val:  0.1821386055499659\n",
      "Iter:  1 train:  0.048441170053048176 val:  0.1803074304493892\n",
      "Iter:  2 train:  0.048275481773985655 val:  0.1764902735095318\n",
      "Iter:  3 train:  0.047497790559224394 val:  0.1756855497291829\n",
      "Iter:  4 train:  0.04675953555589894 val:  0.17484239358423856\n",
      "Iter:  5 train:  0.04625237073922252 val:  0.17619954570685584\n",
      "Iter:  6 train:  0.04580052397266769 val:  0.1704886632624085\n",
      "Iter:  7 train:  0.045340418010258114 val:  0.173071464695473\n",
      "Iter:  8 train:  0.04477322111797714 val:  0.17700077682157986\n",
      "Iter:  9 train:  0.04415441610293423 val:  0.17176414550016786\n",
      "Iter:  10 train:  0.04366811887118311 val:  0.17547296227595138\n",
      "Iter:  11 train:  0.04322688041858176 val:  0.1794720218463335\n",
      "Iter:  12 train:  0.04281247302023639 val:  0.17399056462711038\n",
      "Iter:  13 train:  0.04251669605449638 val:  0.17270583559100275\n",
      "Iter:  14 train:  0.042179251115772386 val:  0.16964347071078847\n"
     ]
    }
   ],
   "source": [
    "# Training\n",
    "l1_weight = 0.01\n",
    "l2_weight = 0.01\n",
    "for i in range(epochs):\n",
    "    mse_train = 0\n",
    "    for batch_x, batch_y in train_loader:\n",
    "        batch_x = batch_x.cuda()\n",
    "        batch_y = batch_y.cuda()\n",
    "        # print(batch_x.dtype)\n",
    "        optimizers.zero_grad()\n",
    "        y_pred = model(batch_x)\n",
    "        y_pred = y_pred.squeeze(1)\n",
    "        l = criterions(y_pred, batch_y)\n",
    "\n",
    "        # Using l1 regularization\n",
    "        if l1:\n",
    "            l1_parameters = []\n",
    "            for parameter in model.parameters():\n",
    "                l1_parameters.append(parameter.view(-1))\n",
    "            L1 = l1_weight * model.compute_l1(torch.cat(l1_parameters))\n",
    "            l += L1\n",
    "\n",
    "        # Using l2 regularization\n",
    "        if l2:\n",
    "            l2_parameters = []\n",
    "            for parameter in model.parameters():\n",
    "                l2_parameters.append(parameter.view(-1))\n",
    "            L1 = l2_weight * model.compute_l2(torch.cat(l2_parameters))\n",
    "            l += L1      \n",
    "\n",
    "        l.backward()\n",
    "        mse_train += l.item()*batch_x.shape[0]\n",
    "        optimizers.step()\n",
    "    if lr_decay:    \n",
    "        epoch_schedulers.step()\n",
    "    with torch.no_grad():\n",
    "        mse_val = 0\n",
    "        preds = []\n",
    "        true = []\n",
    "        for batch_x, batch_y in val_loader:\n",
    "            batch_x = batch_x.cuda()\n",
    "            batch_y = batch_y.cuda()\n",
    "            output = model(batch_x)\n",
    "            output = output.squeeze(1)\n",
    "            preds.append(output.detach().cpu().numpy())\n",
    "            true.append(batch_y.detach().cpu().numpy())\n",
    "            mse_val += criterions(output, batch_y).item()*batch_x.shape[0]\n",
    "    preds = np.concatenate(preds)\n",
    "    true = np.concatenate(true)\n",
    "        \n",
    "    print(\"Iter: \", i, \"train: \", (mse_train/train.__len__())**0.5, \"val: \", (mse_val/val.__len__())**0.5)\n"
   ]
  },
  {
   "cell_type": "code",
   "execution_count": 21,
   "metadata": {},
   "outputs": [
    {
     "name": "stdout",
     "output_type": "stream",
     "text": [
      "313028041.4288961 16071.463540853421\n"
     ]
    },
    {
     "data": {
      "image/png": "[encoded data removed]",
      "text/plain": [
       "<Figure size 800x600 with 1 Axes>"
      ]
     },
     "metadata": {},
     "output_type": "display_data"
    }
   ],
   "source": [
    "# Testing the model\n",
    "\n",
    "with torch.no_grad():\n",
    "    mse_val = 0\n",
    "    preds = []\n",
    "    true = []\n",
    "    for batch_x, batch_y in test_loader:\n",
    "        batch_x = batch_x.cuda()\n",
    "        batch_y = batch_y.cuda()\n",
    "        output = model(batch_x)\n",
    "        output = output.squeeze(1)\n",
    "        preds.append(output.detach().cpu().numpy())\n",
    "        true.append(batch_y.detach().cpu().numpy())\n",
    "        mse_val += criterions(output, batch_y).item()*batch_x.shape[0]\n",
    "    preds = np.concatenate(preds)\n",
    "    true = np.concatenate(true)\n",
    "\n",
    "    # resizing to true value scales\n",
    "    preds = preds*(test.meta[1] - test.meta[3]) + test.meta[3]\n",
    "    true = true*(test.meta[1] - test.meta[3]) + test.meta[3]\n",
    "\n",
    "    mse = mean_squared_error(true, preds)\n",
    "    mae = mean_absolute_error(true, preds)\n",
    "\n",
    "    print(mse, mae)\n",
    "    n = 250\n",
    "    plt.figure(figsize=(8, 6))\n",
    "    plt.plot(preds[::n], 'b', label='line 1')\n",
    "    plt.plot(true[::n], 'g',  label='line 2')\n",
    "    plt.show()"
   ]
  },
  {
   "cell_type": "code",
   "execution_count": 20,
   "metadata": {},
   "outputs": [],
   "source": [
    "# https://www.kaggle.com/code/myonin/bitcoin-price-prediction-by-arima/notebook\n",
    "# https://www.kaggle.com/code/zikazika/using-rnn-and-arima-to-predict-bitcoin-price/notebook"
   ]
  }
 ],
 "metadata": {
  "kernelspec": {
   "display_name": "dryice",
   "language": "python",
   "name": "python3"
  },
  "language_info": {
   "codemirror_mode": {
    "name": "ipython",
    "version": 3
   },
   "file_extension": ".py",
   "mimetype": "text/x-python",
   "name": "python",
   "nbconvert_exporter": "python",
   "pygments_lexer": "ipython3",
   "version": "3.8.6"
  },
  "orig_nbformat": 4
 },
 "nbformat": 4,
 "nbformat_minor": 2
}
