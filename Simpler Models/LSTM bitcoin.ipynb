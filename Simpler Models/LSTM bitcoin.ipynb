{
 "cells": [
  {
   "cell_type": "code",
   "execution_count": 1,
   "metadata": {},
   "outputs": [],
   "source": [
    "import pandas as pd\n",
    "import numpy as np\n",
    "from sklearn.model_selection import train_test_split\n",
    "from sklearn.metrics import mean_squared_error, mean_absolute_error\n",
    "import matplotlib.pyplot as plt\n",
    "\n",
    "import torch\n",
    "import torch.nn as nn\n",
    "from torch.utils.data import Dataset, DataLoader "
   ]
  },
  {
   "cell_type": "code",
   "execution_count": 2,
   "metadata": {},
   "outputs": [],
   "source": [
    "# Setting hyperparameters\n",
    "batch_size = 32\n",
    "epochs = 20\n",
    "learning_rate = 0.001\n",
    "l1 = False\n",
    "l2 = False\n",
    "lr_decay = False"
   ]
  },
  {
   "cell_type": "code",
   "execution_count": 3,
   "metadata": {},
   "outputs": [
    {
     "name": "stdout",
     "output_type": "stream",
     "text": [
      "(4857377, 8)\n"
     ]
    }
   ],
   "source": [
    "df1 = pd.read_csv(\"bitcoin_data/bitstampUSD_1-min_data_2012-01-01_to_2021-03-31.csv\")\n",
    "\n",
    "print(df1.shape)"
   ]
  },
  {
   "cell_type": "code",
   "execution_count": 4,
   "metadata": {},
   "outputs": [
    {
     "data": {
      "text/html": [
       "<div>\n",
       "<style scoped>\n",
       "    .dataframe tbody tr th:only-of-type {\n",
       "        vertical-align: middle;\n",
       "    }\n",
       "\n",
       "    .dataframe tbody tr th {\n",
       "        vertical-align: top;\n",
       "    }\n",
       "\n",
       "    .dataframe thead th {\n",
       "        text-align: right;\n",
       "    }\n",
       "</style>\n",
       "<table border=\"1\" class=\"dataframe\">\n",
       "  <thead>\n",
       "    <tr style=\"text-align: right;\">\n",
       "      <th></th>\n",
       "      <th>Timestamp</th>\n",
       "      <th>Open</th>\n",
       "      <th>High</th>\n",
       "      <th>Low</th>\n",
       "      <th>Close</th>\n",
       "      <th>Volume_(BTC)</th>\n",
       "      <th>Volume_(Currency)</th>\n",
       "      <th>Weighted_Price</th>\n",
       "    </tr>\n",
       "  </thead>\n",
       "  <tbody>\n",
       "    <tr>\n",
       "      <th>0</th>\n",
       "      <td>1325317920</td>\n",
       "      <td>4.39</td>\n",
       "      <td>4.39</td>\n",
       "      <td>4.39</td>\n",
       "      <td>4.39</td>\n",
       "      <td>0.455581</td>\n",
       "      <td>2.0</td>\n",
       "      <td>4.39</td>\n",
       "    </tr>\n",
       "    <tr>\n",
       "      <th>1</th>\n",
       "      <td>1325317980</td>\n",
       "      <td>NaN</td>\n",
       "      <td>NaN</td>\n",
       "      <td>NaN</td>\n",
       "      <td>NaN</td>\n",
       "      <td>NaN</td>\n",
       "      <td>NaN</td>\n",
       "      <td>NaN</td>\n",
       "    </tr>\n",
       "    <tr>\n",
       "      <th>2</th>\n",
       "      <td>1325318040</td>\n",
       "      <td>NaN</td>\n",
       "      <td>NaN</td>\n",
       "      <td>NaN</td>\n",
       "      <td>NaN</td>\n",
       "      <td>NaN</td>\n",
       "      <td>NaN</td>\n",
       "      <td>NaN</td>\n",
       "    </tr>\n",
       "    <tr>\n",
       "      <th>3</th>\n",
       "      <td>1325318100</td>\n",
       "      <td>NaN</td>\n",
       "      <td>NaN</td>\n",
       "      <td>NaN</td>\n",
       "      <td>NaN</td>\n",
       "      <td>NaN</td>\n",
       "      <td>NaN</td>\n",
       "      <td>NaN</td>\n",
       "    </tr>\n",
       "    <tr>\n",
       "      <th>4</th>\n",
       "      <td>1325318160</td>\n",
       "      <td>NaN</td>\n",
       "      <td>NaN</td>\n",
       "      <td>NaN</td>\n",
       "      <td>NaN</td>\n",
       "      <td>NaN</td>\n",
       "      <td>NaN</td>\n",
       "      <td>NaN</td>\n",
       "    </tr>\n",
       "  </tbody>\n",
       "</table>\n",
       "</div>"
      ],
      "text/plain": [
       "    Timestamp  Open  High   Low  Close  Volume_(BTC)  Volume_(Currency)  \\\n",
       "0  1325317920  4.39  4.39  4.39   4.39      0.455581                2.0   \n",
       "1  1325317980   NaN   NaN   NaN    NaN           NaN                NaN   \n",
       "2  1325318040   NaN   NaN   NaN    NaN           NaN                NaN   \n",
       "3  1325318100   NaN   NaN   NaN    NaN           NaN                NaN   \n",
       "4  1325318160   NaN   NaN   NaN    NaN           NaN                NaN   \n",
       "\n",
       "   Weighted_Price  \n",
       "0            4.39  \n",
       "1             NaN  \n",
       "2             NaN  \n",
       "3             NaN  \n",
       "4             NaN  "
      ]
     },
     "execution_count": 4,
     "metadata": {},
     "output_type": "execute_result"
    }
   ],
   "source": [
    "df1.head()"
   ]
  },
  {
   "cell_type": "code",
   "execution_count": 5,
   "metadata": {},
   "outputs": [
    {
     "data": {
      "text/plain": [
       "Timestamp                  0\n",
       "Open                 1243608\n",
       "High                 1243608\n",
       "Low                  1243608\n",
       "Close                1243608\n",
       "Volume_(BTC)         1243608\n",
       "Volume_(Currency)    1243608\n",
       "Weighted_Price       1243608\n",
       "dtype: int64"
      ]
     },
     "execution_count": 5,
     "metadata": {},
     "output_type": "execute_result"
    }
   ],
   "source": [
    "df1.isnull().sum()"
   ]
  },
  {
   "cell_type": "code",
   "execution_count": 6,
   "metadata": {},
   "outputs": [
    {
     "name": "stdout",
     "output_type": "stream",
     "text": [
      "(3613769, 8)\n"
     ]
    },
    {
     "data": {
      "text/plain": [
       "Timestamp            0\n",
       "Open                 0\n",
       "High                 0\n",
       "Low                  0\n",
       "Close                0\n",
       "Volume_(BTC)         0\n",
       "Volume_(Currency)    0\n",
       "Weighted_Price       0\n",
       "dtype: int64"
      ]
     },
     "execution_count": 6,
     "metadata": {},
     "output_type": "execute_result"
    }
   ],
   "source": [
    "df = df1.dropna(how=\"any\")\n",
    "\n",
    "print(df.shape)\n",
    "df.isnull().sum()"
   ]
  },
  {
   "cell_type": "code",
   "execution_count": 7,
   "metadata": {},
   "outputs": [
    {
     "data": {
      "text/html": [
       "<div>\n",
       "<style scoped>\n",
       "    .dataframe tbody tr th:only-of-type {\n",
       "        vertical-align: middle;\n",
       "    }\n",
       "\n",
       "    .dataframe tbody tr th {\n",
       "        vertical-align: top;\n",
       "    }\n",
       "\n",
       "    .dataframe thead th {\n",
       "        text-align: right;\n",
       "    }\n",
       "</style>\n",
       "<table border=\"1\" class=\"dataframe\">\n",
       "  <thead>\n",
       "    <tr style=\"text-align: right;\">\n",
       "      <th></th>\n",
       "      <th>Timestamp</th>\n",
       "      <th>Open</th>\n",
       "      <th>High</th>\n",
       "      <th>Low</th>\n",
       "      <th>Close</th>\n",
       "      <th>Volume_(BTC)</th>\n",
       "      <th>Volume_(Currency)</th>\n",
       "      <th>Weighted_Price</th>\n",
       "    </tr>\n",
       "  </thead>\n",
       "  <tbody>\n",
       "    <tr>\n",
       "      <th>0</th>\n",
       "      <td>1325317920</td>\n",
       "      <td>4.39</td>\n",
       "      <td>4.39</td>\n",
       "      <td>4.39</td>\n",
       "      <td>4.39</td>\n",
       "      <td>0.455581</td>\n",
       "      <td>2.000000</td>\n",
       "      <td>4.390000</td>\n",
       "    </tr>\n",
       "    <tr>\n",
       "      <th>478</th>\n",
       "      <td>1325346600</td>\n",
       "      <td>4.39</td>\n",
       "      <td>4.39</td>\n",
       "      <td>4.39</td>\n",
       "      <td>4.39</td>\n",
       "      <td>48.000000</td>\n",
       "      <td>210.720000</td>\n",
       "      <td>4.390000</td>\n",
       "    </tr>\n",
       "    <tr>\n",
       "      <th>547</th>\n",
       "      <td>1325350740</td>\n",
       "      <td>4.50</td>\n",
       "      <td>4.57</td>\n",
       "      <td>4.50</td>\n",
       "      <td>4.57</td>\n",
       "      <td>37.862297</td>\n",
       "      <td>171.380338</td>\n",
       "      <td>4.526411</td>\n",
       "    </tr>\n",
       "    <tr>\n",
       "      <th>548</th>\n",
       "      <td>1325350800</td>\n",
       "      <td>4.58</td>\n",
       "      <td>4.58</td>\n",
       "      <td>4.58</td>\n",
       "      <td>4.58</td>\n",
       "      <td>9.000000</td>\n",
       "      <td>41.220000</td>\n",
       "      <td>4.580000</td>\n",
       "    </tr>\n",
       "    <tr>\n",
       "      <th>1224</th>\n",
       "      <td>1325391360</td>\n",
       "      <td>4.58</td>\n",
       "      <td>4.58</td>\n",
       "      <td>4.58</td>\n",
       "      <td>4.58</td>\n",
       "      <td>1.502000</td>\n",
       "      <td>6.879160</td>\n",
       "      <td>4.580000</td>\n",
       "    </tr>\n",
       "  </tbody>\n",
       "</table>\n",
       "</div>"
      ],
      "text/plain": [
       "       Timestamp  Open  High   Low  Close  Volume_(BTC)  Volume_(Currency)  \\\n",
       "0     1325317920  4.39  4.39  4.39   4.39      0.455581           2.000000   \n",
       "478   1325346600  4.39  4.39  4.39   4.39     48.000000         210.720000   \n",
       "547   1325350740  4.50  4.57  4.50   4.57     37.862297         171.380338   \n",
       "548   1325350800  4.58  4.58  4.58   4.58      9.000000          41.220000   \n",
       "1224  1325391360  4.58  4.58  4.58   4.58      1.502000           6.879160   \n",
       "\n",
       "      Weighted_Price  \n",
       "0           4.390000  \n",
       "478         4.390000  \n",
       "547         4.526411  \n",
       "548         4.580000  \n",
       "1224        4.580000  "
      ]
     },
     "execution_count": 7,
     "metadata": {},
     "output_type": "execute_result"
    }
   ],
   "source": [
    "df.head()"
   ]
  },
  {
   "cell_type": "code",
   "execution_count": 8,
   "metadata": {},
   "outputs": [],
   "source": [
    "# No EDA and data leakage consideration - just model building."
   ]
  },
  {
   "cell_type": "code",
   "execution_count": 9,
   "metadata": {},
   "outputs": [],
   "source": [
    "feature_list = ['Open', 'High', 'Low', 'Close', 'Volume_(BTC)', 'Volume_(Currency)']\n",
    "\n",
    "target = 'Weighted_Price'\n",
    "\n",
    "X = df[feature_list]\n",
    "y = df[target]"
   ]
  },
  {
   "cell_type": "code",
   "execution_count": 10,
   "metadata": {},
   "outputs": [],
   "source": [
    "# Generating dataset\n",
    "\n",
    "class bitcoin(Dataset):\n",
    "    def __init__(self, X, y, bias):\n",
    "        self.X = X.to_numpy()\n",
    "        self.y = y.to_numpy()\n",
    "        self.bias = bias\n",
    "        self.meta= self.preprocess(self.X, self.y)\n",
    "\n",
    "    def preprocess(self, X, y):\n",
    "        X_min, y_min = X.min(axis=0), y.min(axis=0)  \n",
    "        X_max, y_max = X.max(axis=0), y.max(axis=0)  \n",
    "\n",
    "        meta_data = [X_max, y_max, X_min, y_min]\n",
    "        return meta_data\n",
    "\n",
    "        \n",
    "    def __len__(self):\n",
    "        return self.X.shape[0]\n",
    "    \n",
    "    def __getitem__(self, index):\n",
    "        p = (self.X[index, :] - self.meta[2])/(self.meta[0] - self.meta[2] + self.bias)\n",
    "        q = (self.y[index] - self.meta[3])/(self.meta[1] - self.meta[3] + self.bias)\n",
    "        return p,q"
   ]
  },
  {
   "cell_type": "code",
   "execution_count": 11,
   "metadata": {},
   "outputs": [
    {
     "data": {
      "text/plain": [
       "259.34"
      ]
     },
     "execution_count": 11,
     "metadata": {},
     "output_type": "execute_result"
    }
   ],
   "source": [
    "train = bitcoin(X.iloc[:100000, :], y.iloc[:100000], 1e-4)\n",
    "train.meta[0][2]"
   ]
  },
  {
   "cell_type": "code",
   "execution_count": 12,
   "metadata": {},
   "outputs": [
    {
     "data": {
      "text/plain": [
       "130.88"
      ]
     },
     "execution_count": 12,
     "metadata": {},
     "output_type": "execute_result"
    }
   ],
   "source": [
    "val = bitcoin(X.iloc[100000:140000, :], y.iloc[100000:140000], 1e-4)\n",
    "val.meta[0][2]"
   ]
  },
  {
   "cell_type": "code",
   "execution_count": 13,
   "metadata": {},
   "outputs": [
    {
     "data": {
      "text/plain": [
       "107.49"
      ]
     },
     "execution_count": 13,
     "metadata": {},
     "output_type": "execute_result"
    }
   ],
   "source": [
    "test = bitcoin(X.iloc[140000:180000, :], y.iloc[140000:180000], 1e-4)\n",
    "test.meta[0][2]"
   ]
  },
  {
   "cell_type": "code",
   "execution_count": 14,
   "metadata": {},
   "outputs": [],
   "source": [
    "train_loader = DataLoader(train, batch_size=batch_size, shuffle=True)\n",
    "val_loader = DataLoader(val, batch_size=batch_size, shuffle=True)\n",
    "test_loader = DataLoader(test, batch_size=1, shuffle=False)"
   ]
  },
  {
   "cell_type": "code",
   "execution_count": 15,
   "metadata": {},
   "outputs": [
    {
     "name": "stdout",
     "output_type": "stream",
     "text": [
      "torch.Size([32, 6]) torch.Size([32])\n"
     ]
    }
   ],
   "source": [
    "dataset_iter = iter(train_loader)\n",
    "temp = next(dataset_iter)\n",
    "features, labels = temp\n",
    "print(features.shape, labels.shape)"
   ]
  },
  {
   "cell_type": "code",
   "execution_count": 16,
   "metadata": {},
   "outputs": [],
   "source": [
    "class RNNForecasting(nn.Module):\n",
    "    def __init__(self, input_shape, hidden_shape, output_shape, num_layers):\n",
    "        super(RNNForecasting, self).__init__()\n",
    "        self.hidden = hidden_shape\n",
    "        self.num_layers = num_layers\n",
    "        self.rnn = nn.LSTM(input_shape, hidden_shape, num_layers=num_layers)\n",
    "        self.linear = nn.Linear(hidden_shape, output_shape)\n",
    "\n",
    "    def forward(self, x):\n",
    "        h = torch.zeros([self.num_layers, self.hidden], dtype=torch.double).cuda()\n",
    "        c = torch.zeros([self.num_layers, self.hidden], dtype=torch.double).cuda()\n",
    "        # print(f\"ff {h.dtype}\")\n",
    "        out, (h,c) = self.rnn(x, (h, c))\n",
    "        out = self.linear(out)\n",
    "            \n",
    "        return out   "
   ]
  },
  {
   "cell_type": "code",
   "execution_count": 17,
   "metadata": {},
   "outputs": [],
   "source": [
    "input_shape = 6\n",
    "hidden_shape = 128\n",
    "model = RNNForecasting(input_shape, hidden_shape, 1, num_layers=3).double().cuda()"
   ]
  },
  {
   "cell_type": "code",
   "execution_count": 18,
   "metadata": {},
   "outputs": [],
   "source": [
    "criterion = nn.MSELoss()\n",
    "optimizer = torch.optim.Adam(model.parameters(), lr=learning_rate)\n",
    "\n",
    "epoch_scheduler = torch.optim.lr_scheduler.StepLR(optimizer, 5, gamma=0.9)"
   ]
  },
  {
   "cell_type": "code",
   "execution_count": 19,
   "metadata": {},
   "outputs": [
    {
     "name": "stdout",
     "output_type": "stream",
     "text": [
      "Iter:  0 train:  0.037470318928633936 val:  0.004807875179847259\n",
      "Iter:  1 train:  0.0027868926588289636 val:  0.0033491295089190178\n",
      "Iter:  2 train:  0.002923860770977053 val:  0.008007001540588376\n",
      "Iter:  3 train:  0.0029366981749707386 val:  0.004305467413989505\n",
      "Iter:  4 train:  0.0025764349376722093 val:  0.004614586602255057\n",
      "Iter:  5 train:  0.0026362767968180403 val:  0.004563870781798989\n",
      "Iter:  6 train:  0.002536133649270767 val:  0.004602018787955715\n",
      "Iter:  7 train:  0.002264273112022498 val:  0.00663560434796833\n",
      "Iter:  8 train:  0.0022606655121307924 val:  0.005547686777116786\n",
      "Iter:  9 train:  0.002248648107114258 val:  0.004445132834739537\n",
      "Iter:  10 train:  0.0021314070269567408 val:  0.003939167218094466\n",
      "Iter:  11 train:  0.0021822498220556248 val:  0.00491242428506433\n",
      "Iter:  12 train:  0.0022427280042738268 val:  0.005316656323502051\n",
      "Iter:  13 train:  0.0020004724180807225 val:  0.0040976231304905\n",
      "Iter:  14 train:  0.002095083079972505 val:  0.006278468461076552\n",
      "Iter:  15 train:  0.001935209142287342 val:  0.0053889765375770005\n",
      "Iter:  16 train:  0.0019571708810496424 val:  0.003895114621517249\n",
      "Iter:  17 train:  0.002004002708969332 val:  0.004383950481828193\n",
      "Iter:  18 train:  0.0019237304030679393 val:  0.011674621588185665\n",
      "Iter:  19 train:  0.0019517943791877784 val:  0.0046537430367794555\n"
     ]
    }
   ],
   "source": [
    "# Training\n",
    "l1_weight = 0.01\n",
    "l2_weight = 0.01\n",
    "for i in range(epochs):\n",
    "    mse_train = 0\n",
    "    for batch_x, batch_y in train_loader:\n",
    "        batch_x = batch_x.cuda()\n",
    "        batch_y = batch_y.cuda()\n",
    "        # print(batch_x.dtype)\n",
    "        optimizer.zero_grad()\n",
    "        y_pred = model(batch_x)\n",
    "        y_pred = y_pred.squeeze(1)\n",
    "        l = criterion(y_pred, batch_y)\n",
    "\n",
    "        # Using l1 regularization\n",
    "        if l1:\n",
    "            l1_parameters = []\n",
    "            for parameter in model.parameters():\n",
    "                l1_parameters.append(parameter.view(-1))\n",
    "            L1 = l1_weight * model.compute_l1(torch.cat(l1_parameters))\n",
    "            l += L1\n",
    "\n",
    "        # Using l2 regularization\n",
    "        if l2:\n",
    "            l2_parameters = []\n",
    "            for parameter in model.parameters():\n",
    "                l2_parameters.append(parameter.view(-1))\n",
    "            L1 = l2_weight * model.compute_l2(torch.cat(l2_parameters))\n",
    "            l += L1      \n",
    "\n",
    "        l.backward()\n",
    "        mse_train += l.item()*batch_x.shape[0]\n",
    "        optimizer.step()\n",
    "    if lr_decay:    \n",
    "        epoch_scheduler.step()\n",
    "    with torch.no_grad():\n",
    "        mse_val = 0\n",
    "        preds = []\n",
    "        true = []\n",
    "        for batch_x, batch_y in val_loader:\n",
    "            batch_x = batch_x.cuda()\n",
    "            batch_y = batch_y.cuda()\n",
    "            output = model(batch_x)\n",
    "            output = output.squeeze(1)\n",
    "            preds.append(output.detach().cpu().numpy())\n",
    "            true.append(batch_y.detach().cpu().numpy())\n",
    "            mse_val += criterion(output, batch_y).item()*batch_x.shape[0]\n",
    "    preds = np.concatenate(preds)\n",
    "    true = np.concatenate(true)\n",
    "        \n",
    "    print(\"Iter: \", i, \"train: \", (mse_train/train.__len__())**0.5, \"val: \", (mse_val/val.__len__())**0.5)\n"
   ]
  },
  {
   "cell_type": "code",
   "execution_count": 20,
   "metadata": {},
   "outputs": [
    {
     "name": "stdout",
     "output_type": "stream",
     "text": [
      "0.04979037179627601 0.12705568303158726\n"
     ]
    },
    {
     "data": {
      "image/png": "[encoded data removed]",
      "text/plain": [
       "<Figure size 1300x800 with 1 Axes>"
      ]
     },
     "metadata": {},
     "output_type": "display_data"
    }
   ],
   "source": [
    "# Testing the model\n",
    "\n",
    "with torch.no_grad():\n",
    "    mse_val = 0\n",
    "    preds = []\n",
    "    true = []\n",
    "    for batch_x, batch_y in test_loader:\n",
    "        batch_x = batch_x.cuda()\n",
    "        batch_y = batch_y.cuda()\n",
    "        output = model(batch_x)\n",
    "        output = output.squeeze(1)\n",
    "        preds.append(output.detach().cpu().numpy())\n",
    "        true.append(batch_y.detach().cpu().numpy())\n",
    "        mse_val += criterion(output, batch_y).item()*batch_x.shape[0]\n",
    "    preds = np.concatenate(preds)\n",
    "    true = np.concatenate(true)\n",
    "\n",
    "    # resizing to true value scales\n",
    "    preds = preds*(test.meta[1] - test.meta[3]) + test.meta[3]\n",
    "    true = true*(test.meta[1] - test.meta[3]) + test.meta[3]\n",
    "\n",
    "    mse = mean_squared_error(true, preds)\n",
    "    mae = mean_absolute_error(true, preds)\n",
    "\n",
    "    print(mse, mae)\n",
    "\n",
    "    plt.figure(figsize=(13, 8))\n",
    "    plt.plot(preds, 'b', label='line 1')\n",
    "    plt.plot(true, 'g',  label='line 2')\n",
    "    plt.show()"
   ]
  },
  {
   "cell_type": "code",
   "execution_count": 21,
   "metadata": {},
   "outputs": [],
   "source": [
    "# https://www.kaggle.com/code/myonin/bitcoin-price-prediction-by-arima/notebook\n",
    "# https://www.kaggle.com/code/zikazika/using-rnn-and-arima-to-predict-bitcoin-price/notebook"
   ]
  }
 ],
 "metadata": {
  "kernelspec": {
   "display_name": "dryice",
   "language": "python",
   "name": "python3"
  },
  "language_info": {
   "codemirror_mode": {
    "name": "ipython",
    "version": 3
   },
   "file_extension": ".py",
   "mimetype": "text/x-python",
   "name": "python",
   "nbconvert_exporter": "python",
   "pygments_lexer": "ipython3",
   "version": "3.9.12"
  },
  "orig_nbformat": 4
 },
 "nbformat": 4,
 "nbformat_minor": 2
}
