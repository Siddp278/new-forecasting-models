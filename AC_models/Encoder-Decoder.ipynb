{
 "cells": [
  {
   "cell_type": "code",
   "execution_count": 138,
   "metadata": {},
   "outputs": [],
   "source": [
    "import pandas as pd\n",
    "import numpy as np\n",
    "from sklearn.model_selection import train_test_split\n",
    "from sklearn.metrics import mean_squared_error, mean_absolute_error\n",
    "from sklearn.preprocessing import MinMaxScaler\n",
    "import matplotlib.pyplot as plt\n",
    "\n",
    "import torch\n",
    "import torch.nn as nn\n",
    "from torch.utils.data import Dataset, DataLoader\n",
    "\n",
    "import random"
   ]
  },
  {
   "cell_type": "code",
   "execution_count": 139,
   "metadata": {},
   "outputs": [],
   "source": [
    "# Setting hyperparameters\n",
    "batch_size = 64\n",
    "epochs = 50\n",
    "learning_rate = 0.0001\n",
    "hidden_shape = 64\n",
    "num_layer = 1\n",
    "l1 = False\n",
    "l2 = False\n",
    "lr_decay = False\n",
    "model_type = \"Encoder-Decoder\""
   ]
  },
  {
   "cell_type": "code",
   "execution_count": 140,
   "metadata": {},
   "outputs": [
    {
     "data": {
      "text/html": [
       "<div>\n",
       "<style scoped>\n",
       "    .dataframe tbody tr th:only-of-type {\n",
       "        vertical-align: middle;\n",
       "    }\n",
       "\n",
       "    .dataframe tbody tr th {\n",
       "        vertical-align: top;\n",
       "    }\n",
       "\n",
       "    .dataframe thead th {\n",
       "        text-align: right;\n",
       "    }\n",
       "</style>\n",
       "<table border=\"1\" class=\"dataframe\">\n",
       "  <thead>\n",
       "    <tr style=\"text-align: right;\">\n",
       "      <th></th>\n",
       "      <th>date_time</th>\n",
       "      <th>temperature_datetime</th>\n",
       "      <th>temperature</th>\n",
       "      <th>airQuality_datetime</th>\n",
       "      <th>airQuality</th>\n",
       "    </tr>\n",
       "  </thead>\n",
       "  <tbody>\n",
       "    <tr>\n",
       "      <th>0</th>\n",
       "      <td>2023-06-11 01:07:06.889863</td>\n",
       "      <td>2023-6-10-17-7-7</td>\n",
       "      <td>25.3750</td>\n",
       "      <td>2023-6-10-17-7-9</td>\n",
       "      <td>449</td>\n",
       "    </tr>\n",
       "    <tr>\n",
       "      <th>1</th>\n",
       "      <td>2023-06-11 01:12:07.465380</td>\n",
       "      <td>2023-6-10-17-12-4</td>\n",
       "      <td>25.3125</td>\n",
       "      <td>2023-6-10-17-12-8</td>\n",
       "      <td>461</td>\n",
       "    </tr>\n",
       "    <tr>\n",
       "      <th>2</th>\n",
       "      <td>2023-06-11 01:17:08.019617</td>\n",
       "      <td>2023-6-10-17-17-5</td>\n",
       "      <td>25.3125</td>\n",
       "      <td>2023-6-10-17-17-7</td>\n",
       "      <td>454</td>\n",
       "    </tr>\n",
       "    <tr>\n",
       "      <th>3</th>\n",
       "      <td>2023-06-11 01:22:08.641555</td>\n",
       "      <td>2023-6-10-17-22-8</td>\n",
       "      <td>25.1875</td>\n",
       "      <td>2023-6-10-17-22-9</td>\n",
       "      <td>460</td>\n",
       "    </tr>\n",
       "    <tr>\n",
       "      <th>4</th>\n",
       "      <td>2023-06-11 01:27:09.215907</td>\n",
       "      <td>2023-6-10-17-27-5</td>\n",
       "      <td>25.0625</td>\n",
       "      <td>2023-6-10-17-27-7</td>\n",
       "      <td>482</td>\n",
       "    </tr>\n",
       "  </tbody>\n",
       "</table>\n",
       "</div>"
      ],
      "text/plain": [
       "                    date_time temperature_datetime  temperature  \\\n",
       "0  2023-06-11 01:07:06.889863     2023-6-10-17-7-7      25.3750   \n",
       "1  2023-06-11 01:12:07.465380    2023-6-10-17-12-4      25.3125   \n",
       "2  2023-06-11 01:17:08.019617    2023-6-10-17-17-5      25.3125   \n",
       "3  2023-06-11 01:22:08.641555    2023-6-10-17-22-8      25.1875   \n",
       "4  2023-06-11 01:27:09.215907    2023-6-10-17-27-5      25.0625   \n",
       "\n",
       "  airQuality_datetime  airQuality  \n",
       "0    2023-6-10-17-7-9         449  \n",
       "1   2023-6-10-17-12-8         461  \n",
       "2   2023-6-10-17-17-7         454  \n",
       "3   2023-6-10-17-22-9         460  \n",
       "4   2023-6-10-17-27-7         482  "
      ]
     },
     "execution_count": 140,
     "metadata": {},
     "output_type": "execute_result"
    }
   ],
   "source": [
    "df = pd.read_csv(\"data/ac_data.csv\")\n",
    "\n",
    "df.head()"
   ]
  },
  {
   "cell_type": "code",
   "execution_count": 141,
   "metadata": {},
   "outputs": [],
   "source": [
    "# Generating dataset\n",
    "\n",
    "class device_data(Dataset):\n",
    "    def __init__(self, X, window, horizon=0):\n",
    "        self.X = []\n",
    "        self.y = []\n",
    "        self.len = X.shape[0]-window-1\n",
    "        for i in range(0, len(X)-window-1-horizon):\n",
    "            self.X.append(X[i:window+i])\n",
    "            self.y.append(X[window+i: window+i+horizon+1])\n",
    "\n",
    "    def __len__(self):\n",
    "        return self.len\n",
    "\n",
    "    def __getitem__(self, index):\n",
    "        return torch.Tensor(self.X[index]), torch.Tensor([self.y[index]])"
   ]
  },
  {
   "cell_type": "code",
   "execution_count": 142,
   "metadata": {},
   "outputs": [],
   "source": [
    "scaler = MinMaxScaler()\n",
    "scaler.fit(df[\"temperature\"].to_numpy().reshape(-1, 1))\n",
    "data = scaler.transform(df[\"temperature\"].to_numpy().reshape(-1, 1))"
   ]
  },
  {
   "cell_type": "code",
   "execution_count": 143,
   "metadata": {},
   "outputs": [],
   "source": [
    "# data = df[\"temperature\"].to_numpy()"
   ]
  },
  {
   "cell_type": "code",
   "execution_count": 144,
   "metadata": {},
   "outputs": [],
   "source": [
    "# Sequence lenght is 12. 1 hr duration\n",
    "window = 12\n",
    "horizon = 4"
   ]
  },
  {
   "cell_type": "code",
   "execution_count": 145,
   "metadata": {},
   "outputs": [],
   "source": [
    "train = device_data(data.squeeze()[:800], window, horizon)\n",
    "val = device_data(data.squeeze()[800:900], window, horizon)\n",
    "test = device_data(data.squeeze()[900:], window, horizon)"
   ]
  },
  {
   "cell_type": "code",
   "execution_count": 146,
   "metadata": {},
   "outputs": [],
   "source": [
    "train_loader = DataLoader(train, batch_size=batch_size, shuffle=False, drop_last=True)\n",
    "val_loader = DataLoader(val, batch_size=batch_size, shuffle=False, drop_last=True)\n",
    "test_loader = DataLoader(test, batch_size=1, shuffle=False, drop_last=True)"
   ]
  },
  {
   "cell_type": "code",
   "execution_count": 147,
   "metadata": {},
   "outputs": [
    {
     "name": "stdout",
     "output_type": "stream",
     "text": [
      "torch.Size([64, 12]) torch.Size([64, 1, 5])\n"
     ]
    }
   ],
   "source": [
    "dataset_iter = iter(train_loader)\n",
    "temp = next(dataset_iter)\n",
    "features, labels = temp\n",
    "print(features.shape, labels.shape)"
   ]
  },
  {
   "cell_type": "code",
   "execution_count": 148,
   "metadata": {},
   "outputs": [],
   "source": [
    "class Encoder(nn.Module):\n",
    "    def __init__(self, seq_len, input_shape, hidden_size, num_layers):\n",
    "        super(Encoder, self).__init__()\n",
    "        self.num_layers = num_layers\n",
    "        self.hidden = hidden_size\n",
    "        self.input_shape = input_shape\n",
    "        self.gru = nn.GRU(input_shape, hidden_size, num_layers, batch_first=True)\n",
    "\n",
    "    def forward(self, input):\n",
    "        # input [batch, window]\n",
    "        # hidden = torch.zeros([self.num_layers, self.hidden]).cuda()\n",
    "        # hidden = torch.zeros([self.num_layers, batch_size, self.hidden]).cuda()\n",
    "        output, hidden = self.gru(input)\n",
    "        return output, hidden"
   ]
  },
  {
   "cell_type": "code",
   "execution_count": 149,
   "metadata": {},
   "outputs": [
    {
     "name": "stdout",
     "output_type": "stream",
     "text": [
      "torch.Size([64, 12, 64]) torch.Size([1, 64, 64])\n"
     ]
    }
   ],
   "source": [
    "# Test encoder model,\n",
    "input_shape = 1\n",
    "enc_test = Encoder(window, input_shape, hidden_shape, num_layers=num_layer).cuda()\n",
    "# (seq,btch,in_sh)\n",
    "out, h = enc_test(features.unsqueeze(2).cuda())\n",
    "print(out.shape, h.shape)"
   ]
  },
  {
   "cell_type": "code",
   "execution_count": 150,
   "metadata": {},
   "outputs": [],
   "source": [
    "class Decoder(nn.Module):\n",
    "    def __init__(self, output_size, hidden_size, num_layers):\n",
    "        super(Decoder, self).__init__()\n",
    "        self.hidden_size = hidden_size\n",
    "        self.num_layers = num_layers\n",
    "        self.gru = nn.GRU(1, hidden_size, num_layers, batch_first=True)\n",
    "        self.linear = nn.Linear(hidden_size, output_size)\n",
    "\n",
    "    def forward(self, input, hidden):\n",
    "        # hidden = torch.zeros(1, 1, self.hidden_size, device=device)\n",
    "        # print(input.dtype, hidden.dtype)\n",
    "        output, hidden = self.gru(input, hidden)\n",
    "        output = self.linear(output)\n",
    "        return output, hidden"
   ]
  },
  {
   "cell_type": "code",
   "execution_count": 151,
   "metadata": {},
   "outputs": [
    {
     "name": "stdout",
     "output_type": "stream",
     "text": [
      "torch.Size([64, 1, 1]) torch.Size([1, 64, 64])\n"
     ]
    }
   ],
   "source": [
    "output_size = 1\n",
    "dec_test = Decoder(output_size, hidden_shape, num_layers=num_layer).cuda()\n",
    "# h = torch.zeros([dec_test.num_layers, dec_test.hidden])\n",
    "labels = labels.permute(0, 2, 1)\n",
    "out, h = dec_test(labels[:, 0].view(batch_size, 1, 1).cuda(), h)\n",
    "print(out.shape, h.shape)"
   ]
  },
  {
   "cell_type": "code",
   "execution_count": 152,
   "metadata": {},
   "outputs": [],
   "source": [
    "input_shape = 1\n",
    "encoder = Encoder(window, input_shape, hidden_shape, num_layers=num_layer).cuda()\n",
    "\n",
    "output_size = 1\n",
    "decoder = Decoder(output_size, hidden_shape, num_layers=num_layer).cuda()"
   ]
  },
  {
   "cell_type": "code",
   "execution_count": 153,
   "metadata": {},
   "outputs": [],
   "source": [
    "criterion = nn.MSELoss()\n",
    "rnn_model_params = list(encoder.parameters()) + list(decoder.parameters())\n",
    "optimizer = torch.optim.Adam(rnn_model_params, lr=learning_rate)\n",
    "\n",
    "epoch_scheduler = torch.optim.lr_scheduler.StepLR(optimizer, 5, gamma=0.9)"
   ]
  },
  {
   "cell_type": "code",
   "execution_count": 154,
   "metadata": {},
   "outputs": [
    {
     "name": "stdout",
     "output_type": "stream",
     "text": [
      "Epoch:1, train loss: [0.4147732631924252], val loss: [0.0293864111105601]\n"
     ]
    },
    {
     "name": "stderr",
     "output_type": "stream",
     "text": [
      "c:\\Users\\siddp\\OneDrive\\Desktop\\project-venv\\dryice\\lib\\site-packages\\torch\\nn\\modules\\loss.py:536: UserWarning: Using a target size (torch.Size([64, 1, 1])) that is different to the input size (torch.Size([64, 1])). This will likely lead to incorrect results due to broadcasting. Please ensure they have the same size.\n",
      "  return F.mse_loss(input, target, reduction=self.reduction)\n"
     ]
    },
    {
     "name": "stdout",
     "output_type": "stream",
     "text": [
      "Epoch:2, train loss: [0.3860256237288316], val loss: [0.027121280630429585]\n",
      "Epoch:3, train loss: [0.35846182284876704], val loss: [0.02493918438752492]\n",
      "Epoch:4, train loss: [0.3317145736267169], val loss: [0.022810230652491253]\n",
      "Epoch:5, train loss: [0.30538992762255174], val loss: [0.020704027265310287]\n",
      "Epoch:6, train loss: [0.27911828361296404], val loss: [0.018594011664390564]\n",
      "Epoch:7, train loss: [0.2525876148138195], val loss: [0.016460036238034565]\n",
      "Epoch:8, train loss: [0.2255669265675048], val loss: [0.014289836088816324]\n",
      "Epoch:9, train loss: [0.19792662444524467], val loss: [0.012082502245903015]\n",
      "Epoch:10, train loss: [0.1697061664890498], val loss: [0.009857608626286188]\n",
      "Epoch:11, train loss: [0.14125969532566765], val loss: [0.007671215881903966]\n",
      "Epoch:12, train loss: [0.11348917715561886], val loss: [0.005638588219881058]\n",
      "Epoch:13, train loss: [0.08813487373602887], val loss: [0.003952658424774806]\n",
      "Epoch:14, train loss: [0.06783153217596312], val loss: [0.0028462295110026994]\n",
      "Epoch:15, train loss: [0.055063366734733186], val loss: [0.0024097448525329432]\n",
      "Epoch:16, train loss: [0.04964093972618381], val loss: [0.002390769155075153]\n",
      "Epoch:17, train loss: [0.048075237621863685], val loss: [0.0024260451706747213]\n",
      "Epoch:18, train loss: [0.04730405223866304], val loss: [0.002406492829322815]\n",
      "Epoch:19, train loss: [0.04656900620708863], val loss: [0.0023719084759553275]\n",
      "Epoch:20, train loss: [0.04590341945489248], val loss: [0.0023472790295879045]\n",
      "Epoch:21, train loss: [0.045304781602074705], val loss: [0.002333774076153835]\n",
      "Epoch:22, train loss: [0.04474995099008083], val loss: [0.002327145698169867]\n",
      "Epoch:23, train loss: [0.044230077881366014], val loss: [0.0023239037642876306]\n",
      "Epoch:24, train loss: [0.04374129418283701], val loss: [0.0023221763161321483]\n",
      "Epoch:25, train loss: [0.043279607935498156], val loss: [0.002321312204003334]\n",
      "Epoch:26, train loss: [0.042841075298686825], val loss: [0.002321244372675816]\n",
      "Epoch:27, train loss: [0.042422316037118435], val loss: [0.002322030564149221]\n",
      "Epoch:28, train loss: [0.042020585387945175], val loss: [0.0023236720201869807]\n",
      "Epoch:29, train loss: [0.04163368232548237], val loss: [0.0023260965632895627]\n",
      "Epoch:30, train loss: [0.04125979930783311], val loss: [0.0023292011270920434]\n",
      "Epoch:31, train loss: [0.04089747462421656], val loss: [0.0023328851287563643]\n",
      "Epoch:32, train loss: [0.040545472875237465], val loss: [0.0023370644388099513]\n",
      "Epoch:33, train loss: [0.04020276588077346], val loss: [0.0023416735542317233]\n",
      "Epoch:34, train loss: [0.03986847617973884], val loss: [0.002346660320957502]\n",
      "Epoch:35, train loss: [0.0395418731495738], val loss: [0.0023519815877079964]\n",
      "Epoch:36, train loss: [0.03922233466679851], val loss: [0.00235760056724151]\n",
      "Epoch:37, train loss: [0.038909346175690494], val loss: [0.0023634854393700757]\n",
      "Epoch:38, train loss: [0.03860248206183314], val loss: [0.0023696087300777435]\n",
      "Epoch:39, train loss: [0.03830138221383095], val loss: [0.0023759459145367146]\n",
      "Epoch:40, train loss: [0.038005753265072904], val loss: [0.002382477124532064]\n",
      "Epoch:41, train loss: [0.03771535508955518], val loss: [0.0023891832679510117]\n",
      "Epoch:42, train loss: [0.03742999707659086], val loss: [0.002396050840616226]\n",
      "Epoch:43, train loss: [0.03714951950435837], val loss: [0.0024030658726890883]\n",
      "Epoch:44, train loss: [0.03687380657841762], val loss: [0.0024102178091804185]\n",
      "Epoch:45, train loss: [0.03660276050989827], val loss: [0.002417495474219322]\n",
      "Epoch:46, train loss: [0.03633632301352918], val loss: [0.002424891417225202]\n",
      "Epoch:47, train loss: [0.036074445117264986], val loss: [0.002432396945854028]\n",
      "Epoch:48, train loss: [0.03581710811704397], val loss: [0.002440006316949924]\n",
      "Epoch:49, train loss: [0.03556429517144958], val loss: [0.0024477123903731504]\n",
      "Epoch:50, train loss: [0.035316022423406444], val loss: [0.0024555098886291185]\n"
     ]
    },
    {
     "data": {
      "image/png": "[encoded data removed]",
      "text/plain": [
       "<Figure size 640x480 with 1 Axes>"
      ]
     },
     "metadata": {},
     "output_type": "display_data"
    }
   ],
   "source": [
    "loss_train = []\n",
    "loss_val = []\n",
    "for i in range(epochs):\n",
    "    total_loss = 0\n",
    "    total_val = 0\n",
    "    n_batch = 0\n",
    "    for batch_x, batch_y in train_loader:\n",
    "        n_batch += 1\n",
    "        batch_x = batch_x.cuda()\n",
    "        batch_y = batch_y.cuda()\n",
    "        batch_x = batch_x.unsqueeze(2)\n",
    "        batch_y = batch_y.permute(0, 2, 1)\n",
    "        optimizer.zero_grad()\n",
    "        encoder_output, encoder_hidden = encoder(batch_x)\n",
    "        dec_input = batch_y[:, 0].view(batch_size, 1, 1)\n",
    "        dec_hidden = encoder_hidden\n",
    "        mse_train = 0\n",
    "        for t in range(1, batch_y.size(1)):\n",
    "            predictions, dec_hidden = decoder(dec_input, dec_hidden)\n",
    "            mse_train_step = criterion(batch_y[:, t], predictions)\n",
    "            mse_train += mse_train_step\n",
    "            dec_input = batch_y[:, t].view(batch_size, 1, 1)\n",
    "\n",
    "        batch_loss = mse_train / (batch_y.size(1) - 1)\n",
    "        total_loss += batch_loss.item()\n",
    "\n",
    "        batch_loss.backward()\n",
    "        optimizer.step()\n",
    "        # if lr_decay:\n",
    "            # epoch_scheduler.step()\n",
    "    with torch.no_grad():\n",
    "        mse_val = 0\n",
    "        preds = []\n",
    "        true = []\n",
    "        for batch_x, batch_y in val_loader:\n",
    "            batch_x = batch_x.cuda()\n",
    "            batch_y = batch_y.cuda()\n",
    "            batch_x = batch_x.unsqueeze(2)\n",
    "            batch_y = batch_y.permute(0, 2, 1)\n",
    "            optimizer.zero_grad()\n",
    "            encoder_output, encoder_hidden = encoder(batch_x)\n",
    "            dec_input = batch_y[:, 0].view(batch_size, 1, 1)\n",
    "            dec_hidden = encoder_hidden\n",
    "            mse_val = 0\n",
    "            for t in range(1, batch_y.size(1)):\n",
    "                predictions, dec_hidden = decoder(dec_input, dec_hidden)\n",
    "                mse_val_step = criterion(batch_y[:, t], predictions)\n",
    "                mse_val += mse_val_step\n",
    "                dec_input = batch_y[:, t].view(batch_size, 1, 1)\n",
    "\n",
    "            batch_loss = mse_val / (batch_y.size(1) - 1)\n",
    "            total_val += batch_loss.item()   \n",
    "\n",
    "        # if n_batch % 100 == 0:\n",
    "        #     print(f\"Iteration:{n_batch}, Loss: {[batch_loss.item()]}\")    \n",
    "\n",
    "    print(f\"Epoch:{i+1}, train loss: {[total_loss/n_batch]}, val loss: {[total_val/n_batch]}\")\n",
    "    loss_train.append(total_loss/n_batch)\n",
    "    loss_val.append(total_val/n_batch)\n",
    "\n",
    "plt.plot(loss_train)\n",
    "plt.plot(loss_val)\n",
    "plt.show()       "
   ]
  },
  {
   "cell_type": "code",
   "execution_count": 155,
   "metadata": {},
   "outputs": [
    {
     "name": "stdout",
     "output_type": "stream",
     "text": [
      "132\n",
      "132\n"
     ]
    }
   ],
   "source": [
    "print(len(test_loader))\n",
    "print(test.__len__())"
   ]
  },
  {
   "cell_type": "code",
   "execution_count": 156,
   "metadata": {},
   "outputs": [
    {
     "name": "stdout",
     "output_type": "stream",
     "text": [
      "0.028169675 0.13265595\n"
     ]
    }
   ],
   "source": [
    "with torch.no_grad():\n",
    "  preds = []\n",
    "  true = []\n",
    "  for i, (batch_x, batch_y) in enumerate(test_loader):\n",
    "        # print(i)\n",
    "        if i == 127:\n",
    "            break\n",
    "        batch_x = batch_x.cuda()\n",
    "        batch_y = batch_y.cuda()\n",
    "        batch_x = batch_x.unsqueeze(2)\n",
    "        batch_y = batch_y.permute(0, 2, 1)\n",
    "        temp = batch_y.squeeze(dim=2)\n",
    "        # print(f'the true values: {temp}')\n",
    "        if i == 0:\n",
    "            true.extend(temp.detach().cpu().numpy())\n",
    "        else:\n",
    "            true.append(temp[0, -1].detach().cpu().numpy())   \n",
    "        encoder_output, encoder_hidden = encoder(batch_x)\n",
    "        dec_input = batch_y[:, 0].view(1, 1, 1)\n",
    "        if i == 0:\n",
    "            temp = dec_input.detach().cpu().numpy()\n",
    "            # print(f'the 1st pred value: {temp.reshape(1, -1)}')\n",
    "            preds.append(temp.reshape(1, -1))\n",
    "\n",
    "        dec_hidden = encoder_hidden\n",
    "        l = []\n",
    "        for t in range(1, batch_y.size(1)):\n",
    "            predictions, dec_hidden = decoder(dec_input, dec_hidden)\n",
    "            best_guess = predictions.detach().cpu().numpy()\n",
    "            # print(f'the {t+1}st pred value: {best_guess}')\n",
    "            if i == 0:\n",
    "                preds.append(best_guess.reshape(1, -1))\n",
    "            else:\n",
    "                l.append(best_guess)    \n",
    "            dec_input = predictions.view(1, 1, 1)\n",
    "        if i != 0:\n",
    "            preds.append(l[-1].reshape(1, -1))    \n",
    "\n",
    "preds = np.concatenate(preds)\n",
    "true = np.concatenate([np.atleast_1d(arr) for arr in true])\n",
    "mse = mean_squared_error(true, preds)\n",
    "mae = mean_absolute_error(true, preds)\n",
    "\n",
    "print(mse, mae)"
   ]
  },
  {
   "cell_type": "code",
   "execution_count": 157,
   "metadata": {},
   "outputs": [],
   "source": [
    "preds = scaler.inverse_transform(preds)\n",
    "true = scaler.inverse_transform(true.reshape(-1, 1))"
   ]
  },
  {
   "cell_type": "code",
   "execution_count": 160,
   "metadata": {},
   "outputs": [
    {
     "data": {
      "image/png": "[encoded data removed]",
      "text/plain": [
       "<Figure size 500x300 with 1 Axes>"
      ]
     },
     "metadata": {},
     "output_type": "display_data"
    }
   ],
   "source": [
    "plt.figure(figsize=(5, 3))\n",
    "plt.plot(preds, 'b', label='Preds')\n",
    "plt.plot(true, 'g', label='True')\n",
    "plt.legend()\n",
    "plt.xlabel(\"Minute Traversed\")\n",
    "plt.ylabel(\"Temperature\")\n",
    "plt.show()"
   ]
  },
  {
   "cell_type": "code",
   "execution_count": 159,
   "metadata": {},
   "outputs": [
    {
     "name": "stdout",
     "output_type": "stream",
     "text": [
      "New configuration for the model added\n"
     ]
    }
   ],
   "source": [
    "# Creating/updating config file with hyperparameters and model performance\n",
    "import os\n",
    "from pathlib import Path\n",
    "import json\n",
    "\n",
    "filepath = \"config/config.json\"\n",
    "filepath = Path(filepath)\n",
    "filedir, filename = os.path.split(filepath)\n",
    "\n",
    "dic = {\n",
    "    \"model\": model_type,\n",
    "    \"batch_size\": batch_size,\n",
    "    \"epochs\": epochs,\n",
    "    \"learning_rate\": learning_rate,\n",
    "    \"hidden_shape\": hidden_shape,\n",
    "    \"num_layer\": num_layer,\n",
    "    \"l1\": l1,\n",
    "    \"l2\": l2,\n",
    "    \"lr_decay\": lr_decay,\n",
    "    \"MAE\": str(mae),\n",
    "    \"MSE\": str(mse),\n",
    "    \"window_size\": str(window),\n",
    "    \"horizon\": str(horizon)\n",
    "}\n",
    "\n",
    "# Serializing json\n",
    "json_object = json.dumps(dic, indent=4)\n",
    "\n",
    "try:\n",
    "    with open(filepath, \"r\") as file:\n",
    "        existing_data = json.load(file)\n",
    "        existing_data.append(json_object)\n",
    "        with open(filepath, \"w\") as file:\n",
    "            json.dump(existing_data, file, indent=None)\n",
    "        print(\"New configuration for the model added\")\n",
    "except FileNotFoundError:\n",
    "    if filedir != \"\":\n",
    "        os.makedirs(filedir, exist_ok=True)\n",
    "        print(f\"Creating directory:{filedir} for the file {filename}\")\n",
    "\n",
    "    existing_data = []\n",
    "    existing_data.append(json_object)\n",
    "    with open(filepath, \"w\") as file:\n",
    "        json.dump(existing_data, file, indent=None)\n",
    "\n",
    "    print(\"New config file is created with first configuration for the model\")"
   ]
  },
  {
   "cell_type": "code",
   "execution_count": null,
   "metadata": {},
   "outputs": [],
   "source": []
  }
 ],
 "metadata": {
  "kernelspec": {
   "display_name": "dryice",
   "language": "python",
   "name": "python3"
  },
  "language_info": {
   "codemirror_mode": {
    "name": "ipython",
    "version": 3
   },
   "file_extension": ".py",
   "mimetype": "text/x-python",
   "name": "python",
   "nbconvert_exporter": "python",
   "pygments_lexer": "ipython3",
   "version": "3.9.6"
  },
  "orig_nbformat": 4
 },
 "nbformat": 4,
 "nbformat_minor": 2
}
